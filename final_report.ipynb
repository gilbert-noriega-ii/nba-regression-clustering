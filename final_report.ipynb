{
 "cells": [
  {
   "cell_type": "markdown",
   "metadata": {},
   "source": [
    "# Talking Points"
   ]
  },
  {
   "cell_type": "markdown",
   "metadata": {},
   "source": [
    "Finding the drivers of point total from the 2014-2018 seasons"
   ]
  },
  {
   "cell_type": "code",
   "execution_count": 85,
   "metadata": {},
   "outputs": [],
   "source": [
    "#acquire libraries\n",
    "import pandas as pd\n",
    "\n",
    "#explore libraries\n",
    "import numpy as np\n",
    "import seaborn as sns\n",
    "import matplotlib.pyplot as plt\n",
    "from scipy import stats\n",
    "from scipy.stats import f_oneway\n",
    "\n",
    "from prepare import wrangle_nba, scaled_wrangle_nba\n",
    "from explore import elbow_plot, run_kmeans, add_to_train\n",
    "\n",
    "from sklearn.cluster import KMeans\n",
    "from sklearn.preprocessing import MinMaxScaler\n",
    "\n",
    "#model libraries\n",
    "from model import (select_kbest, rfe, linearReg_train, \n",
    "lassoLars_train, poly_linearReg_train, linearReg_validate,\n",
    "lassoLars_validate, poly_linearReg_validate)\n",
    "\n",
    "from sklearn.linear_model import LinearRegression\n",
    "from sklearn.feature_selection import RFE\n",
    "from sklearn.metrics import mean_squared_error\n",
    "\n",
    "import warnings\n",
    "warnings.filterwarnings(\"ignore\")"
   ]
  },
  {
   "cell_type": "markdown",
   "metadata": {},
   "source": [
    "## Acquire"
   ]
  },
  {
   "cell_type": "code",
   "execution_count": 101,
   "metadata": {},
   "outputs": [],
   "source": [
    "#uploading the nba csv and saving it as a dataframe called nba\n",
    "nba = pd.read_csv('nba.games.stats.csv')"
   ]
  },
  {
   "cell_type": "markdown",
   "metadata": {},
   "source": [
    "### Initial Analysis of the Data"
   ]
  },
  {
   "cell_type": "code",
   "execution_count": 6,
   "metadata": {},
   "outputs": [
    {
     "data": {
      "text/html": [
       "<div>\n",
       "<style scoped>\n",
       "    .dataframe tbody tr th:only-of-type {\n",
       "        vertical-align: middle;\n",
       "    }\n",
       "\n",
       "    .dataframe tbody tr th {\n",
       "        vertical-align: top;\n",
       "    }\n",
       "\n",
       "    .dataframe thead th {\n",
       "        text-align: right;\n",
       "    }\n",
       "</style>\n",
       "<table border=\"1\" class=\"dataframe\">\n",
       "  <thead>\n",
       "    <tr style=\"text-align: right;\">\n",
       "      <th></th>\n",
       "      <th>Unnamed: 0</th>\n",
       "      <th>Team</th>\n",
       "      <th>Game</th>\n",
       "      <th>Date</th>\n",
       "      <th>Home</th>\n",
       "      <th>Opponent</th>\n",
       "      <th>WINorLOSS</th>\n",
       "      <th>TeamPoints</th>\n",
       "      <th>OpponentPoints</th>\n",
       "      <th>FieldGoals</th>\n",
       "      <th>...</th>\n",
       "      <th>Opp.FreeThrows</th>\n",
       "      <th>Opp.FreeThrowsAttempted</th>\n",
       "      <th>Opp.FreeThrows.</th>\n",
       "      <th>Opp.OffRebounds</th>\n",
       "      <th>Opp.TotalRebounds</th>\n",
       "      <th>Opp.Assists</th>\n",
       "      <th>Opp.Steals</th>\n",
       "      <th>Opp.Blocks</th>\n",
       "      <th>Opp.Turnovers</th>\n",
       "      <th>Opp.TotalFouls</th>\n",
       "    </tr>\n",
       "  </thead>\n",
       "  <tbody>\n",
       "    <tr>\n",
       "      <th>0</th>\n",
       "      <td>1</td>\n",
       "      <td>ATL</td>\n",
       "      <td>1</td>\n",
       "      <td>2014-10-29</td>\n",
       "      <td>Away</td>\n",
       "      <td>TOR</td>\n",
       "      <td>L</td>\n",
       "      <td>102</td>\n",
       "      <td>109</td>\n",
       "      <td>40</td>\n",
       "      <td>...</td>\n",
       "      <td>27</td>\n",
       "      <td>33</td>\n",
       "      <td>0.818</td>\n",
       "      <td>16</td>\n",
       "      <td>48</td>\n",
       "      <td>26</td>\n",
       "      <td>13</td>\n",
       "      <td>9</td>\n",
       "      <td>9</td>\n",
       "      <td>22</td>\n",
       "    </tr>\n",
       "    <tr>\n",
       "      <th>1</th>\n",
       "      <td>2</td>\n",
       "      <td>ATL</td>\n",
       "      <td>2</td>\n",
       "      <td>2014-11-01</td>\n",
       "      <td>Home</td>\n",
       "      <td>IND</td>\n",
       "      <td>W</td>\n",
       "      <td>102</td>\n",
       "      <td>92</td>\n",
       "      <td>35</td>\n",
       "      <td>...</td>\n",
       "      <td>18</td>\n",
       "      <td>21</td>\n",
       "      <td>0.857</td>\n",
       "      <td>11</td>\n",
       "      <td>44</td>\n",
       "      <td>25</td>\n",
       "      <td>5</td>\n",
       "      <td>5</td>\n",
       "      <td>18</td>\n",
       "      <td>26</td>\n",
       "    </tr>\n",
       "    <tr>\n",
       "      <th>2</th>\n",
       "      <td>3</td>\n",
       "      <td>ATL</td>\n",
       "      <td>3</td>\n",
       "      <td>2014-11-05</td>\n",
       "      <td>Away</td>\n",
       "      <td>SAS</td>\n",
       "      <td>L</td>\n",
       "      <td>92</td>\n",
       "      <td>94</td>\n",
       "      <td>38</td>\n",
       "      <td>...</td>\n",
       "      <td>27</td>\n",
       "      <td>38</td>\n",
       "      <td>0.711</td>\n",
       "      <td>11</td>\n",
       "      <td>50</td>\n",
       "      <td>25</td>\n",
       "      <td>7</td>\n",
       "      <td>9</td>\n",
       "      <td>19</td>\n",
       "      <td>15</td>\n",
       "    </tr>\n",
       "    <tr>\n",
       "      <th>3</th>\n",
       "      <td>4</td>\n",
       "      <td>ATL</td>\n",
       "      <td>4</td>\n",
       "      <td>2014-11-07</td>\n",
       "      <td>Away</td>\n",
       "      <td>CHO</td>\n",
       "      <td>L</td>\n",
       "      <td>119</td>\n",
       "      <td>122</td>\n",
       "      <td>43</td>\n",
       "      <td>...</td>\n",
       "      <td>20</td>\n",
       "      <td>27</td>\n",
       "      <td>0.741</td>\n",
       "      <td>11</td>\n",
       "      <td>51</td>\n",
       "      <td>31</td>\n",
       "      <td>6</td>\n",
       "      <td>7</td>\n",
       "      <td>19</td>\n",
       "      <td>30</td>\n",
       "    </tr>\n",
       "    <tr>\n",
       "      <th>4</th>\n",
       "      <td>5</td>\n",
       "      <td>ATL</td>\n",
       "      <td>5</td>\n",
       "      <td>2014-11-08</td>\n",
       "      <td>Home</td>\n",
       "      <td>NYK</td>\n",
       "      <td>W</td>\n",
       "      <td>103</td>\n",
       "      <td>96</td>\n",
       "      <td>33</td>\n",
       "      <td>...</td>\n",
       "      <td>8</td>\n",
       "      <td>11</td>\n",
       "      <td>0.727</td>\n",
       "      <td>13</td>\n",
       "      <td>44</td>\n",
       "      <td>26</td>\n",
       "      <td>2</td>\n",
       "      <td>6</td>\n",
       "      <td>15</td>\n",
       "      <td>29</td>\n",
       "    </tr>\n",
       "  </tbody>\n",
       "</table>\n",
       "<p>5 rows × 41 columns</p>\n",
       "</div>"
      ],
      "text/plain": [
       "   Unnamed: 0 Team  Game        Date  Home Opponent WINorLOSS  TeamPoints  \\\n",
       "0           1  ATL     1  2014-10-29  Away      TOR         L         102   \n",
       "1           2  ATL     2  2014-11-01  Home      IND         W         102   \n",
       "2           3  ATL     3  2014-11-05  Away      SAS         L          92   \n",
       "3           4  ATL     4  2014-11-07  Away      CHO         L         119   \n",
       "4           5  ATL     5  2014-11-08  Home      NYK         W         103   \n",
       "\n",
       "   OpponentPoints  FieldGoals  ...  Opp.FreeThrows  Opp.FreeThrowsAttempted  \\\n",
       "0             109          40  ...              27                       33   \n",
       "1              92          35  ...              18                       21   \n",
       "2              94          38  ...              27                       38   \n",
       "3             122          43  ...              20                       27   \n",
       "4              96          33  ...               8                       11   \n",
       "\n",
       "   Opp.FreeThrows.  Opp.OffRebounds  Opp.TotalRebounds  Opp.Assists  \\\n",
       "0            0.818               16                 48           26   \n",
       "1            0.857               11                 44           25   \n",
       "2            0.711               11                 50           25   \n",
       "3            0.741               11                 51           31   \n",
       "4            0.727               13                 44           26   \n",
       "\n",
       "   Opp.Steals  Opp.Blocks  Opp.Turnovers  Opp.TotalFouls  \n",
       "0          13           9              9              22  \n",
       "1           5           5             18              26  \n",
       "2           7           9             19              15  \n",
       "3           6           7             19              30  \n",
       "4           2           6             15              29  \n",
       "\n",
       "[5 rows x 41 columns]"
      ]
     },
     "execution_count": 6,
     "metadata": {},
     "output_type": "execute_result"
    }
   ],
   "source": [
    "#sneak peak into the data\n",
    "nba.head()"
   ]
  },
  {
   "cell_type": "code",
   "execution_count": 91,
   "metadata": {},
   "outputs": [
    {
     "data": {
      "text/html": [
       "<div>\n",
       "<style scoped>\n",
       "    .dataframe tbody tr th:only-of-type {\n",
       "        vertical-align: middle;\n",
       "    }\n",
       "\n",
       "    .dataframe tbody tr th {\n",
       "        vertical-align: top;\n",
       "    }\n",
       "\n",
       "    .dataframe thead th {\n",
       "        text-align: right;\n",
       "    }\n",
       "</style>\n",
       "<table border=\"1\" class=\"dataframe\">\n",
       "  <thead>\n",
       "    <tr style=\"text-align: right;\">\n",
       "      <th></th>\n",
       "      <th>Unnamed: 0</th>\n",
       "      <th>Team</th>\n",
       "      <th>Game</th>\n",
       "      <th>Date</th>\n",
       "      <th>Home</th>\n",
       "      <th>Opponent</th>\n",
       "      <th>WINorLOSS</th>\n",
       "      <th>TeamPoints</th>\n",
       "      <th>OpponentPoints</th>\n",
       "      <th>FieldGoals</th>\n",
       "      <th>...</th>\n",
       "      <th>Opp.FreeThrows</th>\n",
       "      <th>Opp.FreeThrowsAttempted</th>\n",
       "      <th>Opp.FreeThrows.</th>\n",
       "      <th>Opp.OffRebounds</th>\n",
       "      <th>Opp.TotalRebounds</th>\n",
       "      <th>Opp.Assists</th>\n",
       "      <th>Opp.Steals</th>\n",
       "      <th>Opp.Blocks</th>\n",
       "      <th>Opp.Turnovers</th>\n",
       "      <th>Opp.TotalFouls</th>\n",
       "    </tr>\n",
       "  </thead>\n",
       "  <tbody>\n",
       "    <tr>\n",
       "      <th>9835</th>\n",
       "      <td>78119</td>\n",
       "      <td>WAS</td>\n",
       "      <td>78</td>\n",
       "      <td>2018-04-03</td>\n",
       "      <td>Away</td>\n",
       "      <td>HOU</td>\n",
       "      <td>L</td>\n",
       "      <td>104</td>\n",
       "      <td>120</td>\n",
       "      <td>38</td>\n",
       "      <td>...</td>\n",
       "      <td>18</td>\n",
       "      <td>27</td>\n",
       "      <td>0.667</td>\n",
       "      <td>10</td>\n",
       "      <td>46</td>\n",
       "      <td>26</td>\n",
       "      <td>13</td>\n",
       "      <td>3</td>\n",
       "      <td>9</td>\n",
       "      <td>14</td>\n",
       "    </tr>\n",
       "    <tr>\n",
       "      <th>9836</th>\n",
       "      <td>79119</td>\n",
       "      <td>WAS</td>\n",
       "      <td>79</td>\n",
       "      <td>2018-04-05</td>\n",
       "      <td>Away</td>\n",
       "      <td>CLE</td>\n",
       "      <td>L</td>\n",
       "      <td>115</td>\n",
       "      <td>119</td>\n",
       "      <td>47</td>\n",
       "      <td>...</td>\n",
       "      <td>22</td>\n",
       "      <td>28</td>\n",
       "      <td>0.786</td>\n",
       "      <td>5</td>\n",
       "      <td>35</td>\n",
       "      <td>26</td>\n",
       "      <td>10</td>\n",
       "      <td>3</td>\n",
       "      <td>16</td>\n",
       "      <td>14</td>\n",
       "    </tr>\n",
       "    <tr>\n",
       "      <th>9837</th>\n",
       "      <td>80119</td>\n",
       "      <td>WAS</td>\n",
       "      <td>80</td>\n",
       "      <td>2018-04-06</td>\n",
       "      <td>Home</td>\n",
       "      <td>ATL</td>\n",
       "      <td>L</td>\n",
       "      <td>97</td>\n",
       "      <td>103</td>\n",
       "      <td>35</td>\n",
       "      <td>...</td>\n",
       "      <td>16</td>\n",
       "      <td>23</td>\n",
       "      <td>0.696</td>\n",
       "      <td>7</td>\n",
       "      <td>50</td>\n",
       "      <td>24</td>\n",
       "      <td>5</td>\n",
       "      <td>5</td>\n",
       "      <td>18</td>\n",
       "      <td>22</td>\n",
       "    </tr>\n",
       "    <tr>\n",
       "      <th>9838</th>\n",
       "      <td>81124</td>\n",
       "      <td>WAS</td>\n",
       "      <td>81</td>\n",
       "      <td>2018-04-10</td>\n",
       "      <td>Home</td>\n",
       "      <td>BOS</td>\n",
       "      <td>W</td>\n",
       "      <td>113</td>\n",
       "      <td>101</td>\n",
       "      <td>41</td>\n",
       "      <td>...</td>\n",
       "      <td>22</td>\n",
       "      <td>27</td>\n",
       "      <td>0.815</td>\n",
       "      <td>13</td>\n",
       "      <td>44</td>\n",
       "      <td>22</td>\n",
       "      <td>14</td>\n",
       "      <td>1</td>\n",
       "      <td>16</td>\n",
       "      <td>18</td>\n",
       "    </tr>\n",
       "    <tr>\n",
       "      <th>9839</th>\n",
       "      <td>82119</td>\n",
       "      <td>WAS</td>\n",
       "      <td>82</td>\n",
       "      <td>2018-04-11</td>\n",
       "      <td>Away</td>\n",
       "      <td>ORL</td>\n",
       "      <td>L</td>\n",
       "      <td>92</td>\n",
       "      <td>101</td>\n",
       "      <td>33</td>\n",
       "      <td>...</td>\n",
       "      <td>22</td>\n",
       "      <td>27</td>\n",
       "      <td>0.815</td>\n",
       "      <td>6</td>\n",
       "      <td>42</td>\n",
       "      <td>20</td>\n",
       "      <td>6</td>\n",
       "      <td>7</td>\n",
       "      <td>16</td>\n",
       "      <td>27</td>\n",
       "    </tr>\n",
       "  </tbody>\n",
       "</table>\n",
       "<p>5 rows × 41 columns</p>\n",
       "</div>"
      ],
      "text/plain": [
       "      Unnamed: 0 Team  Game        Date  Home Opponent WINorLOSS  TeamPoints  \\\n",
       "9835       78119  WAS    78  2018-04-03  Away      HOU         L         104   \n",
       "9836       79119  WAS    79  2018-04-05  Away      CLE         L         115   \n",
       "9837       80119  WAS    80  2018-04-06  Home      ATL         L          97   \n",
       "9838       81124  WAS    81  2018-04-10  Home      BOS         W         113   \n",
       "9839       82119  WAS    82  2018-04-11  Away      ORL         L          92   \n",
       "\n",
       "      OpponentPoints  FieldGoals  ...  Opp.FreeThrows  \\\n",
       "9835             120          38  ...              18   \n",
       "9836             119          47  ...              22   \n",
       "9837             103          35  ...              16   \n",
       "9838             101          41  ...              22   \n",
       "9839             101          33  ...              22   \n",
       "\n",
       "      Opp.FreeThrowsAttempted  Opp.FreeThrows.  Opp.OffRebounds  \\\n",
       "9835                       27            0.667               10   \n",
       "9836                       28            0.786                5   \n",
       "9837                       23            0.696                7   \n",
       "9838                       27            0.815               13   \n",
       "9839                       27            0.815                6   \n",
       "\n",
       "      Opp.TotalRebounds  Opp.Assists  Opp.Steals  Opp.Blocks  Opp.Turnovers  \\\n",
       "9835                 46           26          13           3              9   \n",
       "9836                 35           26          10           3             16   \n",
       "9837                 50           24           5           5             18   \n",
       "9838                 44           22          14           1             16   \n",
       "9839                 42           20           6           7             16   \n",
       "\n",
       "      Opp.TotalFouls  \n",
       "9835              14  \n",
       "9836              14  \n",
       "9837              22  \n",
       "9838              18  \n",
       "9839              27  \n",
       "\n",
       "[5 rows x 41 columns]"
      ]
     },
     "execution_count": 91,
     "metadata": {},
     "output_type": "execute_result"
    }
   ],
   "source": [
    "nba.tail()"
   ]
  },
  {
   "cell_type": "code",
   "execution_count": 7,
   "metadata": {},
   "outputs": [
    {
     "data": {
      "text/plain": [
       "(9840, 41)"
      ]
     },
     "execution_count": 7,
     "metadata": {},
     "output_type": "execute_result"
    }
   ],
   "source": [
    "#checking to see how many rows and columns there are\n",
    "nba.shape"
   ]
  },
  {
   "cell_type": "code",
   "execution_count": 8,
   "metadata": {},
   "outputs": [
    {
     "name": "stdout",
     "output_type": "stream",
     "text": [
      "<class 'pandas.core.frame.DataFrame'>\n",
      "RangeIndex: 9840 entries, 0 to 9839\n",
      "Data columns (total 41 columns):\n",
      " #   Column                    Non-Null Count  Dtype  \n",
      "---  ------                    --------------  -----  \n",
      " 0   Unnamed: 0                9840 non-null   int64  \n",
      " 1   Team                      9840 non-null   object \n",
      " 2   Game                      9840 non-null   int64  \n",
      " 3   Date                      9840 non-null   object \n",
      " 4   Home                      9840 non-null   object \n",
      " 5   Opponent                  9840 non-null   object \n",
      " 6   WINorLOSS                 9840 non-null   object \n",
      " 7   TeamPoints                9840 non-null   int64  \n",
      " 8   OpponentPoints            9840 non-null   int64  \n",
      " 9   FieldGoals                9840 non-null   int64  \n",
      " 10  FieldGoalsAttempted       9840 non-null   int64  \n",
      " 11  FieldGoals.               9840 non-null   float64\n",
      " 12  X3PointShots              9840 non-null   int64  \n",
      " 13  X3PointShotsAttempted     9840 non-null   int64  \n",
      " 14  X3PointShots.             9840 non-null   float64\n",
      " 15  FreeThrows                9840 non-null   int64  \n",
      " 16  FreeThrowsAttempted       9840 non-null   int64  \n",
      " 17  FreeThrows.               9840 non-null   float64\n",
      " 18  OffRebounds               9840 non-null   int64  \n",
      " 19  TotalRebounds             9840 non-null   int64  \n",
      " 20  Assists                   9840 non-null   int64  \n",
      " 21  Steals                    9840 non-null   int64  \n",
      " 22  Blocks                    9840 non-null   int64  \n",
      " 23  Turnovers                 9840 non-null   int64  \n",
      " 24  TotalFouls                9840 non-null   int64  \n",
      " 25  Opp.FieldGoals            9840 non-null   int64  \n",
      " 26  Opp.FieldGoalsAttempted   9840 non-null   int64  \n",
      " 27  Opp.FieldGoals.           9840 non-null   float64\n",
      " 28  Opp.3PointShots           9840 non-null   int64  \n",
      " 29  Opp.3PointShotsAttempted  9840 non-null   int64  \n",
      " 30  Opp.3PointShots.          9840 non-null   float64\n",
      " 31  Opp.FreeThrows            9840 non-null   int64  \n",
      " 32  Opp.FreeThrowsAttempted   9840 non-null   int64  \n",
      " 33  Opp.FreeThrows.           9840 non-null   float64\n",
      " 34  Opp.OffRebounds           9840 non-null   int64  \n",
      " 35  Opp.TotalRebounds         9840 non-null   int64  \n",
      " 36  Opp.Assists               9840 non-null   int64  \n",
      " 37  Opp.Steals                9840 non-null   int64  \n",
      " 38  Opp.Blocks                9840 non-null   int64  \n",
      " 39  Opp.Turnovers             9840 non-null   int64  \n",
      " 40  Opp.TotalFouls            9840 non-null   int64  \n",
      "dtypes: float64(6), int64(30), object(5)\n",
      "memory usage: 3.1+ MB\n"
     ]
    }
   ],
   "source": [
    "#checking data types, null values, and column names\n",
    "nba.info()"
   ]
  },
  {
   "cell_type": "code",
   "execution_count": 9,
   "metadata": {},
   "outputs": [
    {
     "data": {
      "text/html": [
       "<div>\n",
       "<style scoped>\n",
       "    .dataframe tbody tr th:only-of-type {\n",
       "        vertical-align: middle;\n",
       "    }\n",
       "\n",
       "    .dataframe tbody tr th {\n",
       "        vertical-align: top;\n",
       "    }\n",
       "\n",
       "    .dataframe thead th {\n",
       "        text-align: right;\n",
       "    }\n",
       "</style>\n",
       "<table border=\"1\" class=\"dataframe\">\n",
       "  <thead>\n",
       "    <tr style=\"text-align: right;\">\n",
       "      <th></th>\n",
       "      <th>count</th>\n",
       "      <th>mean</th>\n",
       "      <th>std</th>\n",
       "      <th>min</th>\n",
       "      <th>25%</th>\n",
       "      <th>50%</th>\n",
       "      <th>75%</th>\n",
       "      <th>max</th>\n",
       "    </tr>\n",
       "  </thead>\n",
       "  <tbody>\n",
       "    <tr>\n",
       "      <th>Unnamed: 0</th>\n",
       "      <td>9840.0</td>\n",
       "      <td>11960.157012</td>\n",
       "      <td>18654.867508</td>\n",
       "      <td>1.000</td>\n",
       "      <td>2537.750</td>\n",
       "      <td>5141.500</td>\n",
       "      <td>7715.250</td>\n",
       "      <td>82119.000</td>\n",
       "    </tr>\n",
       "    <tr>\n",
       "      <th>Game</th>\n",
       "      <td>9840.0</td>\n",
       "      <td>41.500000</td>\n",
       "      <td>23.670804</td>\n",
       "      <td>1.000</td>\n",
       "      <td>21.000</td>\n",
       "      <td>41.500</td>\n",
       "      <td>62.000</td>\n",
       "      <td>82.000</td>\n",
       "    </tr>\n",
       "    <tr>\n",
       "      <th>TeamPoints</th>\n",
       "      <td>9840.0</td>\n",
       "      <td>103.652337</td>\n",
       "      <td>12.188043</td>\n",
       "      <td>64.000</td>\n",
       "      <td>95.000</td>\n",
       "      <td>103.000</td>\n",
       "      <td>112.000</td>\n",
       "      <td>149.000</td>\n",
       "    </tr>\n",
       "    <tr>\n",
       "      <th>OpponentPoints</th>\n",
       "      <td>9840.0</td>\n",
       "      <td>103.652337</td>\n",
       "      <td>12.188043</td>\n",
       "      <td>64.000</td>\n",
       "      <td>95.000</td>\n",
       "      <td>103.000</td>\n",
       "      <td>112.000</td>\n",
       "      <td>149.000</td>\n",
       "    </tr>\n",
       "    <tr>\n",
       "      <th>FieldGoals</th>\n",
       "      <td>9840.0</td>\n",
       "      <td>38.602439</td>\n",
       "      <td>5.029992</td>\n",
       "      <td>19.000</td>\n",
       "      <td>35.000</td>\n",
       "      <td>38.000</td>\n",
       "      <td>42.000</td>\n",
       "      <td>58.000</td>\n",
       "    </tr>\n",
       "    <tr>\n",
       "      <th>FieldGoalsAttempted</th>\n",
       "      <td>9840.0</td>\n",
       "      <td>84.902439</td>\n",
       "      <td>7.130043</td>\n",
       "      <td>60.000</td>\n",
       "      <td>80.000</td>\n",
       "      <td>85.000</td>\n",
       "      <td>89.000</td>\n",
       "      <td>129.000</td>\n",
       "    </tr>\n",
       "    <tr>\n",
       "      <th>FieldGoals.</th>\n",
       "      <td>9840.0</td>\n",
       "      <td>0.455689</td>\n",
       "      <td>0.054711</td>\n",
       "      <td>0.271</td>\n",
       "      <td>0.418</td>\n",
       "      <td>0.455</td>\n",
       "      <td>0.494</td>\n",
       "      <td>0.684</td>\n",
       "    </tr>\n",
       "    <tr>\n",
       "      <th>X3PointShots</th>\n",
       "      <td>9840.0</td>\n",
       "      <td>9.126829</td>\n",
       "      <td>3.598084</td>\n",
       "      <td>0.000</td>\n",
       "      <td>7.000</td>\n",
       "      <td>9.000</td>\n",
       "      <td>11.000</td>\n",
       "      <td>25.000</td>\n",
       "    </tr>\n",
       "    <tr>\n",
       "      <th>X3PointShotsAttempted</th>\n",
       "      <td>9840.0</td>\n",
       "      <td>25.623679</td>\n",
       "      <td>7.102501</td>\n",
       "      <td>4.000</td>\n",
       "      <td>21.000</td>\n",
       "      <td>25.000</td>\n",
       "      <td>30.000</td>\n",
       "      <td>61.000</td>\n",
       "    </tr>\n",
       "    <tr>\n",
       "      <th>X3PointShots.</th>\n",
       "      <td>9840.0</td>\n",
       "      <td>0.354321</td>\n",
       "      <td>0.097782</td>\n",
       "      <td>0.000</td>\n",
       "      <td>0.290</td>\n",
       "      <td>0.353</td>\n",
       "      <td>0.419</td>\n",
       "      <td>0.750</td>\n",
       "    </tr>\n",
       "    <tr>\n",
       "      <th>FreeThrows</th>\n",
       "      <td>9840.0</td>\n",
       "      <td>17.320630</td>\n",
       "      <td>6.002620</td>\n",
       "      <td>1.000</td>\n",
       "      <td>13.000</td>\n",
       "      <td>17.000</td>\n",
       "      <td>21.000</td>\n",
       "      <td>44.000</td>\n",
       "    </tr>\n",
       "    <tr>\n",
       "      <th>FreeThrowsAttempted</th>\n",
       "      <td>9840.0</td>\n",
       "      <td>22.749390</td>\n",
       "      <td>7.390451</td>\n",
       "      <td>1.000</td>\n",
       "      <td>18.000</td>\n",
       "      <td>22.000</td>\n",
       "      <td>27.000</td>\n",
       "      <td>64.000</td>\n",
       "    </tr>\n",
       "    <tr>\n",
       "      <th>FreeThrows.</th>\n",
       "      <td>9840.0</td>\n",
       "      <td>0.762395</td>\n",
       "      <td>0.104297</td>\n",
       "      <td>0.143</td>\n",
       "      <td>0.696</td>\n",
       "      <td>0.769</td>\n",
       "      <td>0.833</td>\n",
       "      <td>1.000</td>\n",
       "    </tr>\n",
       "    <tr>\n",
       "      <th>OffRebounds</th>\n",
       "      <td>9840.0</td>\n",
       "      <td>10.287602</td>\n",
       "      <td>3.807120</td>\n",
       "      <td>0.000</td>\n",
       "      <td>8.000</td>\n",
       "      <td>10.000</td>\n",
       "      <td>13.000</td>\n",
       "      <td>38.000</td>\n",
       "    </tr>\n",
       "    <tr>\n",
       "      <th>TotalRebounds</th>\n",
       "      <td>9840.0</td>\n",
       "      <td>43.520630</td>\n",
       "      <td>6.410428</td>\n",
       "      <td>20.000</td>\n",
       "      <td>39.000</td>\n",
       "      <td>43.000</td>\n",
       "      <td>48.000</td>\n",
       "      <td>81.000</td>\n",
       "    </tr>\n",
       "    <tr>\n",
       "      <th>Assists</th>\n",
       "      <td>9840.0</td>\n",
       "      <td>22.546545</td>\n",
       "      <td>5.122989</td>\n",
       "      <td>6.000</td>\n",
       "      <td>19.000</td>\n",
       "      <td>22.000</td>\n",
       "      <td>26.000</td>\n",
       "      <td>47.000</td>\n",
       "    </tr>\n",
       "    <tr>\n",
       "      <th>Steals</th>\n",
       "      <td>9840.0</td>\n",
       "      <td>7.750508</td>\n",
       "      <td>2.958886</td>\n",
       "      <td>0.000</td>\n",
       "      <td>6.000</td>\n",
       "      <td>8.000</td>\n",
       "      <td>10.000</td>\n",
       "      <td>21.000</td>\n",
       "    </tr>\n",
       "    <tr>\n",
       "      <th>Blocks</th>\n",
       "      <td>9840.0</td>\n",
       "      <td>4.827642</td>\n",
       "      <td>2.536845</td>\n",
       "      <td>0.000</td>\n",
       "      <td>3.000</td>\n",
       "      <td>5.000</td>\n",
       "      <td>6.000</td>\n",
       "      <td>18.000</td>\n",
       "    </tr>\n",
       "    <tr>\n",
       "      <th>Turnovers</th>\n",
       "      <td>9840.0</td>\n",
       "      <td>13.638618</td>\n",
       "      <td>3.869543</td>\n",
       "      <td>2.000</td>\n",
       "      <td>11.000</td>\n",
       "      <td>13.000</td>\n",
       "      <td>16.000</td>\n",
       "      <td>29.000</td>\n",
       "    </tr>\n",
       "    <tr>\n",
       "      <th>TotalFouls</th>\n",
       "      <td>9840.0</td>\n",
       "      <td>20.058537</td>\n",
       "      <td>4.317611</td>\n",
       "      <td>7.000</td>\n",
       "      <td>17.000</td>\n",
       "      <td>20.000</td>\n",
       "      <td>23.000</td>\n",
       "      <td>42.000</td>\n",
       "    </tr>\n",
       "    <tr>\n",
       "      <th>Opp.FieldGoals</th>\n",
       "      <td>9840.0</td>\n",
       "      <td>38.602439</td>\n",
       "      <td>5.029992</td>\n",
       "      <td>19.000</td>\n",
       "      <td>35.000</td>\n",
       "      <td>38.000</td>\n",
       "      <td>42.000</td>\n",
       "      <td>58.000</td>\n",
       "    </tr>\n",
       "    <tr>\n",
       "      <th>Opp.FieldGoalsAttempted</th>\n",
       "      <td>9840.0</td>\n",
       "      <td>84.902439</td>\n",
       "      <td>7.130043</td>\n",
       "      <td>60.000</td>\n",
       "      <td>80.000</td>\n",
       "      <td>85.000</td>\n",
       "      <td>89.000</td>\n",
       "      <td>129.000</td>\n",
       "    </tr>\n",
       "    <tr>\n",
       "      <th>Opp.FieldGoals.</th>\n",
       "      <td>9840.0</td>\n",
       "      <td>0.455689</td>\n",
       "      <td>0.054711</td>\n",
       "      <td>0.271</td>\n",
       "      <td>0.418</td>\n",
       "      <td>0.455</td>\n",
       "      <td>0.494</td>\n",
       "      <td>0.684</td>\n",
       "    </tr>\n",
       "    <tr>\n",
       "      <th>Opp.3PointShots</th>\n",
       "      <td>9840.0</td>\n",
       "      <td>9.126829</td>\n",
       "      <td>3.598084</td>\n",
       "      <td>0.000</td>\n",
       "      <td>7.000</td>\n",
       "      <td>9.000</td>\n",
       "      <td>11.000</td>\n",
       "      <td>25.000</td>\n",
       "    </tr>\n",
       "    <tr>\n",
       "      <th>Opp.3PointShotsAttempted</th>\n",
       "      <td>9840.0</td>\n",
       "      <td>25.623679</td>\n",
       "      <td>7.102501</td>\n",
       "      <td>4.000</td>\n",
       "      <td>21.000</td>\n",
       "      <td>25.000</td>\n",
       "      <td>30.000</td>\n",
       "      <td>61.000</td>\n",
       "    </tr>\n",
       "    <tr>\n",
       "      <th>Opp.3PointShots.</th>\n",
       "      <td>9840.0</td>\n",
       "      <td>0.354321</td>\n",
       "      <td>0.097782</td>\n",
       "      <td>0.000</td>\n",
       "      <td>0.290</td>\n",
       "      <td>0.353</td>\n",
       "      <td>0.419</td>\n",
       "      <td>0.750</td>\n",
       "    </tr>\n",
       "    <tr>\n",
       "      <th>Opp.FreeThrows</th>\n",
       "      <td>9840.0</td>\n",
       "      <td>17.320630</td>\n",
       "      <td>6.002620</td>\n",
       "      <td>1.000</td>\n",
       "      <td>13.000</td>\n",
       "      <td>17.000</td>\n",
       "      <td>21.000</td>\n",
       "      <td>44.000</td>\n",
       "    </tr>\n",
       "    <tr>\n",
       "      <th>Opp.FreeThrowsAttempted</th>\n",
       "      <td>9840.0</td>\n",
       "      <td>22.749390</td>\n",
       "      <td>7.390451</td>\n",
       "      <td>1.000</td>\n",
       "      <td>18.000</td>\n",
       "      <td>22.000</td>\n",
       "      <td>27.000</td>\n",
       "      <td>64.000</td>\n",
       "    </tr>\n",
       "    <tr>\n",
       "      <th>Opp.FreeThrows.</th>\n",
       "      <td>9840.0</td>\n",
       "      <td>0.762395</td>\n",
       "      <td>0.104297</td>\n",
       "      <td>0.143</td>\n",
       "      <td>0.696</td>\n",
       "      <td>0.769</td>\n",
       "      <td>0.833</td>\n",
       "      <td>1.000</td>\n",
       "    </tr>\n",
       "    <tr>\n",
       "      <th>Opp.OffRebounds</th>\n",
       "      <td>9840.0</td>\n",
       "      <td>10.287602</td>\n",
       "      <td>3.807120</td>\n",
       "      <td>0.000</td>\n",
       "      <td>8.000</td>\n",
       "      <td>10.000</td>\n",
       "      <td>13.000</td>\n",
       "      <td>38.000</td>\n",
       "    </tr>\n",
       "    <tr>\n",
       "      <th>Opp.TotalRebounds</th>\n",
       "      <td>9840.0</td>\n",
       "      <td>43.520630</td>\n",
       "      <td>6.410428</td>\n",
       "      <td>20.000</td>\n",
       "      <td>39.000</td>\n",
       "      <td>43.000</td>\n",
       "      <td>48.000</td>\n",
       "      <td>81.000</td>\n",
       "    </tr>\n",
       "    <tr>\n",
       "      <th>Opp.Assists</th>\n",
       "      <td>9840.0</td>\n",
       "      <td>22.546545</td>\n",
       "      <td>5.122989</td>\n",
       "      <td>6.000</td>\n",
       "      <td>19.000</td>\n",
       "      <td>22.000</td>\n",
       "      <td>26.000</td>\n",
       "      <td>47.000</td>\n",
       "    </tr>\n",
       "    <tr>\n",
       "      <th>Opp.Steals</th>\n",
       "      <td>9840.0</td>\n",
       "      <td>7.750508</td>\n",
       "      <td>2.958886</td>\n",
       "      <td>0.000</td>\n",
       "      <td>6.000</td>\n",
       "      <td>8.000</td>\n",
       "      <td>10.000</td>\n",
       "      <td>21.000</td>\n",
       "    </tr>\n",
       "    <tr>\n",
       "      <th>Opp.Blocks</th>\n",
       "      <td>9840.0</td>\n",
       "      <td>4.827642</td>\n",
       "      <td>2.536845</td>\n",
       "      <td>0.000</td>\n",
       "      <td>3.000</td>\n",
       "      <td>5.000</td>\n",
       "      <td>6.000</td>\n",
       "      <td>18.000</td>\n",
       "    </tr>\n",
       "    <tr>\n",
       "      <th>Opp.Turnovers</th>\n",
       "      <td>9840.0</td>\n",
       "      <td>13.638618</td>\n",
       "      <td>3.869543</td>\n",
       "      <td>2.000</td>\n",
       "      <td>11.000</td>\n",
       "      <td>13.000</td>\n",
       "      <td>16.000</td>\n",
       "      <td>29.000</td>\n",
       "    </tr>\n",
       "    <tr>\n",
       "      <th>Opp.TotalFouls</th>\n",
       "      <td>9840.0</td>\n",
       "      <td>20.058537</td>\n",
       "      <td>4.317611</td>\n",
       "      <td>7.000</td>\n",
       "      <td>17.000</td>\n",
       "      <td>20.000</td>\n",
       "      <td>23.000</td>\n",
       "      <td>42.000</td>\n",
       "    </tr>\n",
       "  </tbody>\n",
       "</table>\n",
       "</div>"
      ],
      "text/plain": [
       "                           count          mean           std     min  \\\n",
       "Unnamed: 0                9840.0  11960.157012  18654.867508   1.000   \n",
       "Game                      9840.0     41.500000     23.670804   1.000   \n",
       "TeamPoints                9840.0    103.652337     12.188043  64.000   \n",
       "OpponentPoints            9840.0    103.652337     12.188043  64.000   \n",
       "FieldGoals                9840.0     38.602439      5.029992  19.000   \n",
       "FieldGoalsAttempted       9840.0     84.902439      7.130043  60.000   \n",
       "FieldGoals.               9840.0      0.455689      0.054711   0.271   \n",
       "X3PointShots              9840.0      9.126829      3.598084   0.000   \n",
       "X3PointShotsAttempted     9840.0     25.623679      7.102501   4.000   \n",
       "X3PointShots.             9840.0      0.354321      0.097782   0.000   \n",
       "FreeThrows                9840.0     17.320630      6.002620   1.000   \n",
       "FreeThrowsAttempted       9840.0     22.749390      7.390451   1.000   \n",
       "FreeThrows.               9840.0      0.762395      0.104297   0.143   \n",
       "OffRebounds               9840.0     10.287602      3.807120   0.000   \n",
       "TotalRebounds             9840.0     43.520630      6.410428  20.000   \n",
       "Assists                   9840.0     22.546545      5.122989   6.000   \n",
       "Steals                    9840.0      7.750508      2.958886   0.000   \n",
       "Blocks                    9840.0      4.827642      2.536845   0.000   \n",
       "Turnovers                 9840.0     13.638618      3.869543   2.000   \n",
       "TotalFouls                9840.0     20.058537      4.317611   7.000   \n",
       "Opp.FieldGoals            9840.0     38.602439      5.029992  19.000   \n",
       "Opp.FieldGoalsAttempted   9840.0     84.902439      7.130043  60.000   \n",
       "Opp.FieldGoals.           9840.0      0.455689      0.054711   0.271   \n",
       "Opp.3PointShots           9840.0      9.126829      3.598084   0.000   \n",
       "Opp.3PointShotsAttempted  9840.0     25.623679      7.102501   4.000   \n",
       "Opp.3PointShots.          9840.0      0.354321      0.097782   0.000   \n",
       "Opp.FreeThrows            9840.0     17.320630      6.002620   1.000   \n",
       "Opp.FreeThrowsAttempted   9840.0     22.749390      7.390451   1.000   \n",
       "Opp.FreeThrows.           9840.0      0.762395      0.104297   0.143   \n",
       "Opp.OffRebounds           9840.0     10.287602      3.807120   0.000   \n",
       "Opp.TotalRebounds         9840.0     43.520630      6.410428  20.000   \n",
       "Opp.Assists               9840.0     22.546545      5.122989   6.000   \n",
       "Opp.Steals                9840.0      7.750508      2.958886   0.000   \n",
       "Opp.Blocks                9840.0      4.827642      2.536845   0.000   \n",
       "Opp.Turnovers             9840.0     13.638618      3.869543   2.000   \n",
       "Opp.TotalFouls            9840.0     20.058537      4.317611   7.000   \n",
       "\n",
       "                               25%       50%       75%        max  \n",
       "Unnamed: 0                2537.750  5141.500  7715.250  82119.000  \n",
       "Game                        21.000    41.500    62.000     82.000  \n",
       "TeamPoints                  95.000   103.000   112.000    149.000  \n",
       "OpponentPoints              95.000   103.000   112.000    149.000  \n",
       "FieldGoals                  35.000    38.000    42.000     58.000  \n",
       "FieldGoalsAttempted         80.000    85.000    89.000    129.000  \n",
       "FieldGoals.                  0.418     0.455     0.494      0.684  \n",
       "X3PointShots                 7.000     9.000    11.000     25.000  \n",
       "X3PointShotsAttempted       21.000    25.000    30.000     61.000  \n",
       "X3PointShots.                0.290     0.353     0.419      0.750  \n",
       "FreeThrows                  13.000    17.000    21.000     44.000  \n",
       "FreeThrowsAttempted         18.000    22.000    27.000     64.000  \n",
       "FreeThrows.                  0.696     0.769     0.833      1.000  \n",
       "OffRebounds                  8.000    10.000    13.000     38.000  \n",
       "TotalRebounds               39.000    43.000    48.000     81.000  \n",
       "Assists                     19.000    22.000    26.000     47.000  \n",
       "Steals                       6.000     8.000    10.000     21.000  \n",
       "Blocks                       3.000     5.000     6.000     18.000  \n",
       "Turnovers                   11.000    13.000    16.000     29.000  \n",
       "TotalFouls                  17.000    20.000    23.000     42.000  \n",
       "Opp.FieldGoals              35.000    38.000    42.000     58.000  \n",
       "Opp.FieldGoalsAttempted     80.000    85.000    89.000    129.000  \n",
       "Opp.FieldGoals.              0.418     0.455     0.494      0.684  \n",
       "Opp.3PointShots              7.000     9.000    11.000     25.000  \n",
       "Opp.3PointShotsAttempted    21.000    25.000    30.000     61.000  \n",
       "Opp.3PointShots.             0.290     0.353     0.419      0.750  \n",
       "Opp.FreeThrows              13.000    17.000    21.000     44.000  \n",
       "Opp.FreeThrowsAttempted     18.000    22.000    27.000     64.000  \n",
       "Opp.FreeThrows.              0.696     0.769     0.833      1.000  \n",
       "Opp.OffRebounds              8.000    10.000    13.000     38.000  \n",
       "Opp.TotalRebounds           39.000    43.000    48.000     81.000  \n",
       "Opp.Assists                 19.000    22.000    26.000     47.000  \n",
       "Opp.Steals                   6.000     8.000    10.000     21.000  \n",
       "Opp.Blocks                   3.000     5.000     6.000     18.000  \n",
       "Opp.Turnovers               11.000    13.000    16.000     29.000  \n",
       "Opp.TotalFouls              17.000    20.000    23.000     42.000  "
      ]
     },
     "execution_count": 9,
     "metadata": {},
     "output_type": "execute_result"
    }
   ],
   "source": [
    "#looking at the summary statistics of all the numeric columns\n",
    "nba.describe().T"
   ]
  },
  {
   "cell_type": "code",
   "execution_count": 10,
   "metadata": {},
   "outputs": [
    {
     "data": {
      "image/png": "[encoded data removed]",
      "text/plain": [
       "<Figure size 432x288 with 1 Axes>"
      ]
     },
     "metadata": {
      "needs_background": "light"
     },
     "output_type": "display_data"
    },
    {
     "data": {
      "image/png": "[encoded data removed]",
      "text/plain": [
       "<Figure size 432x288 with 1 Axes>"
      ]
     },
     "metadata": {
      "needs_background": "light"
     },
     "output_type": "display_data"
    },
    {
     "data": {
      "image/png": "[encoded data removed]",
      "text/plain": [
       "<Figure size 432x288 with 1 Axes>"
      ]
     },
     "metadata": {
      "needs_background": "light"
     },
     "output_type": "display_data"
    },
    {
     "data": {
      "image/png": "[encoded data removed]",
      "text/plain": [
       "<Figure size 432x288 with 1 Axes>"
      ]
     },
     "metadata": {
      "needs_background": "light"
     },
     "output_type": "display_data"
    },
    {
     "data": {
      "image/png": "[encoded data removed]",
      "text/plain": [
       "<Figure size 432x288 with 1 Axes>"
      ]
     },
     "metadata": {
      "needs_background": "light"
     },
     "output_type": "display_data"
    },
    {
     "data": {
      "image/png": "[encoded data removed]",
      "text/plain": [
       "<Figure size 432x288 with 1 Axes>"
      ]
     },
     "metadata": {
      "needs_background": "light"
     },
     "output_type": "display_data"
    },
    {
     "data": {
      "image/png": "[encoded data removed]",
      "text/plain": [
       "<Figure size 432x288 with 1 Axes>"
      ]
     },
     "metadata": {
      "needs_background": "light"
     },
     "output_type": "display_data"
    },
    {
     "data": {
      "image/png": "[encoded data removed]",
      "text/plain": [
       "<Figure size 432x288 with 1 Axes>"
      ]
     },
     "metadata": {
      "needs_background": "light"
     },
     "output_type": "display_data"
    },
    {
     "data": {
      "image/png": "[encoded data removed]",
      "text/plain": [
       "<Figure size 432x288 with 1 Axes>"
      ]
     },
     "metadata": {
      "needs_background": "light"
     },
     "output_type": "display_data"
    },
    {
     "data": {
      "image/png": "[encoded data removed]",
      "text/plain": [
       "<Figure size 432x288 with 1 Axes>"
      ]
     },
     "metadata": {
      "needs_background": "light"
     },
     "output_type": "display_data"
    },
    {
     "data": {
      "image/png": "[encoded data removed]",
      "text/plain": [
       "<Figure size 432x288 with 1 Axes>"
      ]
     },
     "metadata": {
      "needs_background": "light"
     },
     "output_type": "display_data"
    },
    {
     "data": {
      "image/png": "[encoded data removed]",
      "text/plain": [
       "<Figure size 432x288 with 1 Axes>"
      ]
     },
     "metadata": {
      "needs_background": "light"
     },
     "output_type": "display_data"
    },
    {
     "data": {
      "image/png": "[encoded data removed]",
      "text/plain": [
       "<Figure size 432x288 with 1 Axes>"
      ]
     },
     "metadata": {
      "needs_background": "light"
     },
     "output_type": "display_data"
    },
    {
     "data": {
      "image/png": "[encoded data removed]",
      "text/plain": [
       "<Figure size 432x288 with 1 Axes>"
      ]
     },
     "metadata": {
      "needs_background": "light"
     },
     "output_type": "display_data"
    },
    {
     "data": {
      "image/png": "[encoded data removed]",
      "text/plain": [
       "<Figure size 432x288 with 1 Axes>"
      ]
     },
     "metadata": {
      "needs_background": "light"
     },
     "output_type": "display_data"
    },
    {
     "data": {
      "image/png": "[encoded data removed]",
      "text/plain": [
       "<Figure size 432x288 with 1 Axes>"
      ]
     },
     "metadata": {
      "needs_background": "light"
     },
     "output_type": "display_data"
    },
    {
     "data": {
      "image/png": "[encoded data removed]",
      "text/plain": [
       "<Figure size 432x288 with 1 Axes>"
      ]
     },
     "metadata": {
      "needs_background": "light"
     },
     "output_type": "display_data"
    },
    {
     "data": {
      "image/png": "[encoded data removed]",
      "text/plain": [
       "<Figure size 432x288 with 1 Axes>"
      ]
     },
     "metadata": {
      "needs_background": "light"
     },
     "output_type": "display_data"
    },
    {
     "data": {
      "image/png": "[encoded data removed]",
      "text/plain": [
       "<Figure size 432x288 with 1 Axes>"
      ]
     },
     "metadata": {
      "needs_background": "light"
     },
     "output_type": "display_data"
    },
    {
     "data": {
      "image/png": "[encoded data removed]",
      "text/plain": [
       "<Figure size 432x288 with 1 Axes>"
      ]
     },
     "metadata": {
      "needs_background": "light"
     },
     "output_type": "display_data"
    },
    {
     "data": {
      "image/png": "[encoded data removed]",
      "text/plain": [
       "<Figure size 432x288 with 1 Axes>"
      ]
     },
     "metadata": {
      "needs_background": "light"
     },
     "output_type": "display_data"
    },
    {
     "data": {
      "image/png": "[encoded data removed]",
      "text/plain": [
       "<Figure size 432x288 with 1 Axes>"
      ]
     },
     "metadata": {
      "needs_background": "light"
     },
     "output_type": "display_data"
    },
    {
     "data": {
      "image/png": "[encoded data removed]",
      "text/plain": [
       "<Figure size 432x288 with 1 Axes>"
      ]
     },
     "metadata": {
      "needs_background": "light"
     },
     "output_type": "display_data"
    },
    {
     "data": {
      "image/png": "[encoded data removed]",
      "text/plain": [
       "<Figure size 432x288 with 1 Axes>"
      ]
     },
     "metadata": {
      "needs_background": "light"
     },
     "output_type": "display_data"
    },
    {
     "data": {
      "image/png": "[encoded data removed]",
      "text/plain": [
       "<Figure size 432x288 with 1 Axes>"
      ]
     },
     "metadata": {
      "needs_background": "light"
     },
     "output_type": "display_data"
    },
    {
     "data": {
      "image/png": "[encoded data removed]",
      "text/plain": [
       "<Figure size 432x288 with 1 Axes>"
      ]
     },
     "metadata": {
      "needs_background": "light"
     },
     "output_type": "display_data"
    },
    {
     "data": {
      "image/png": "[encoded data removed]",
      "text/plain": [
       "<Figure size 432x288 with 1 Axes>"
      ]
     },
     "metadata": {
      "needs_background": "light"
     },
     "output_type": "display_data"
    },
    {
     "data": {
      "image/png": "[encoded data removed]",
      "text/plain": [
       "<Figure size 432x288 with 1 Axes>"
      ]
     },
     "metadata": {
      "needs_background": "light"
     },
     "output_type": "display_data"
    },
    {
     "data": {
      "image/png": "[encoded data removed]",
      "text/plain": [
       "<Figure size 432x288 with 1 Axes>"
      ]
     },
     "metadata": {
      "needs_background": "light"
     },
     "output_type": "display_data"
    },
    {
     "data": {
      "image/png": "[encoded data removed]",
      "text/plain": [
       "<Figure size 432x288 with 1 Axes>"
      ]
     },
     "metadata": {
      "needs_background": "light"
     },
     "output_type": "display_data"
    }
   ],
   "source": [
    "#checking plot distribution for all numerical columns\n",
    "num_cols = nba.columns[[nba[col].dtype == 'int64' for col in nba.columns]]\n",
    "for col in num_cols:\n",
    "    plt.hist(nba[col])\n",
    "    plt.title(col)\n",
    "    plt.show()"
   ]
  },
  {
   "cell_type": "markdown",
   "metadata": {},
   "source": [
    "<div class=\"alert alert-block alert-info\"><b>Acquire Summary:</b>\n",
    "    \n",
    "* We will delete unnamed column because it wont be necessary\n",
    "    \n",
    "* We won't need game number because it will be in the index \n",
    "    \n",
    "* Four seasons worth of data, we could look into splitting up the seasons \n",
    "    \n",
    "* No null values, BIG PLUS! \n",
    "    \n",
    "* Some outliers but its just a part of the game. Will keep all the data but could consider removing the outliers later \n",
    "    \n",
    "* Normal distribution for all of the numerical columns\n",
    "    \n",
    "</div>"
   ]
  },
  {
   "cell_type": "markdown",
   "metadata": {},
   "source": [
    "## Prepare"
   ]
  },
  {
   "cell_type": "markdown",
   "metadata": {},
   "source": [
    "<div class=\"alert alert-block alert-info\">\n",
    "    \n",
    "- adding two columns called home_is_west and away_is_west for teams playing in different conferences \n",
    "- Changed Home, Conference, Opp.Conference and Wins into dummy variables \n",
    "- dropped dates and columns that deal with point totals to not skew the models to predict who wins \n",
    "- split into train, validate and test\n",
    "    \n",
    "</div>"
   ]
  },
  {
   "cell_type": "markdown",
   "metadata": {},
   "source": [
    "## Explore"
   ]
  },
  {
   "cell_type": "code",
   "execution_count": 11,
   "metadata": {},
   "outputs": [],
   "source": [
    "train, validate, test = wrangle_nba()"
   ]
  },
  {
   "cell_type": "code",
   "execution_count": 12,
   "metadata": {
    "scrolled": true
   },
   "outputs": [
    {
     "data": {
      "text/html": [
       "<div>\n",
       "<style scoped>\n",
       "    .dataframe tbody tr th:only-of-type {\n",
       "        vertical-align: middle;\n",
       "    }\n",
       "\n",
       "    .dataframe tbody tr th {\n",
       "        vertical-align: top;\n",
       "    }\n",
       "\n",
       "    .dataframe thead th {\n",
       "        text-align: right;\n",
       "    }\n",
       "</style>\n",
       "<table border=\"1\" class=\"dataframe\">\n",
       "  <thead>\n",
       "    <tr style=\"text-align: right;\">\n",
       "      <th></th>\n",
       "      <th>Team</th>\n",
       "      <th>Opponent</th>\n",
       "      <th>TeamPoints</th>\n",
       "      <th>FieldGoals.</th>\n",
       "      <th>X3PointShots.</th>\n",
       "      <th>FreeThrows.</th>\n",
       "      <th>OffRebounds</th>\n",
       "      <th>TotalRebounds</th>\n",
       "      <th>Assists</th>\n",
       "      <th>Steals</th>\n",
       "      <th>...</th>\n",
       "      <th>Opp.OffRebounds</th>\n",
       "      <th>Opp.TotalRebounds</th>\n",
       "      <th>Opp.Assists</th>\n",
       "      <th>Opp.Steals</th>\n",
       "      <th>Opp.Blocks</th>\n",
       "      <th>Opp.Turnovers</th>\n",
       "      <th>Opp.TotalFouls</th>\n",
       "      <th>home_is_west</th>\n",
       "      <th>away_is_west</th>\n",
       "      <th>Home</th>\n",
       "    </tr>\n",
       "  </thead>\n",
       "  <tbody>\n",
       "    <tr>\n",
       "      <th>7544</th>\n",
       "      <td>BRK</td>\n",
       "      <td>IND</td>\n",
       "      <td>131</td>\n",
       "      <td>0.479</td>\n",
       "      <td>0.400</td>\n",
       "      <td>0.906</td>\n",
       "      <td>11</td>\n",
       "      <td>43</td>\n",
       "      <td>22</td>\n",
       "      <td>7</td>\n",
       "      <td>...</td>\n",
       "      <td>14</td>\n",
       "      <td>47</td>\n",
       "      <td>29</td>\n",
       "      <td>12</td>\n",
       "      <td>9</td>\n",
       "      <td>14</td>\n",
       "      <td>25</td>\n",
       "      <td>0</td>\n",
       "      <td>0</td>\n",
       "      <td>0</td>\n",
       "    </tr>\n",
       "    <tr>\n",
       "      <th>3403</th>\n",
       "      <td>IND</td>\n",
       "      <td>PHO</td>\n",
       "      <td>97</td>\n",
       "      <td>0.410</td>\n",
       "      <td>0.200</td>\n",
       "      <td>0.735</td>\n",
       "      <td>10</td>\n",
       "      <td>46</td>\n",
       "      <td>14</td>\n",
       "      <td>16</td>\n",
       "      <td>...</td>\n",
       "      <td>13</td>\n",
       "      <td>53</td>\n",
       "      <td>15</td>\n",
       "      <td>4</td>\n",
       "      <td>2</td>\n",
       "      <td>22</td>\n",
       "      <td>23</td>\n",
       "      <td>0</td>\n",
       "      <td>1</td>\n",
       "      <td>0</td>\n",
       "    </tr>\n",
       "    <tr>\n",
       "      <th>8265</th>\n",
       "      <td>HOU</td>\n",
       "      <td>DAL</td>\n",
       "      <td>105</td>\n",
       "      <td>0.464</td>\n",
       "      <td>0.378</td>\n",
       "      <td>0.714</td>\n",
       "      <td>6</td>\n",
       "      <td>45</td>\n",
       "      <td>21</td>\n",
       "      <td>5</td>\n",
       "      <td>...</td>\n",
       "      <td>17</td>\n",
       "      <td>53</td>\n",
       "      <td>27</td>\n",
       "      <td>5</td>\n",
       "      <td>2</td>\n",
       "      <td>10</td>\n",
       "      <td>18</td>\n",
       "      <td>1</td>\n",
       "      <td>1</td>\n",
       "      <td>0</td>\n",
       "    </tr>\n",
       "    <tr>\n",
       "      <th>2225</th>\n",
       "      <td>TOR</td>\n",
       "      <td>MIL</td>\n",
       "      <td>124</td>\n",
       "      <td>0.523</td>\n",
       "      <td>0.600</td>\n",
       "      <td>0.792</td>\n",
       "      <td>15</td>\n",
       "      <td>57</td>\n",
       "      <td>27</td>\n",
       "      <td>8</td>\n",
       "      <td>...</td>\n",
       "      <td>8</td>\n",
       "      <td>30</td>\n",
       "      <td>19</td>\n",
       "      <td>11</td>\n",
       "      <td>1</td>\n",
       "      <td>12</td>\n",
       "      <td>18</td>\n",
       "      <td>0</td>\n",
       "      <td>0</td>\n",
       "      <td>1</td>\n",
       "    </tr>\n",
       "    <tr>\n",
       "      <th>5027</th>\n",
       "      <td>BOS</td>\n",
       "      <td>CHO</td>\n",
       "      <td>96</td>\n",
       "      <td>0.436</td>\n",
       "      <td>0.321</td>\n",
       "      <td>0.731</td>\n",
       "      <td>5</td>\n",
       "      <td>46</td>\n",
       "      <td>26</td>\n",
       "      <td>7</td>\n",
       "      <td>...</td>\n",
       "      <td>16</td>\n",
       "      <td>53</td>\n",
       "      <td>21</td>\n",
       "      <td>10</td>\n",
       "      <td>4</td>\n",
       "      <td>12</td>\n",
       "      <td>21</td>\n",
       "      <td>0</td>\n",
       "      <td>0</td>\n",
       "      <td>1</td>\n",
       "    </tr>\n",
       "  </tbody>\n",
       "</table>\n",
       "<p>5 rows × 26 columns</p>\n",
       "</div>"
      ],
      "text/plain": [
       "     Team Opponent  TeamPoints  FieldGoals.  X3PointShots.  FreeThrows.  \\\n",
       "7544  BRK      IND         131        0.479          0.400        0.906   \n",
       "3403  IND      PHO          97        0.410          0.200        0.735   \n",
       "8265  HOU      DAL         105        0.464          0.378        0.714   \n",
       "2225  TOR      MIL         124        0.523          0.600        0.792   \n",
       "5027  BOS      CHO          96        0.436          0.321        0.731   \n",
       "\n",
       "      OffRebounds  TotalRebounds  Assists  Steals  ...  Opp.OffRebounds  \\\n",
       "7544           11             43       22       7  ...               14   \n",
       "3403           10             46       14      16  ...               13   \n",
       "8265            6             45       21       5  ...               17   \n",
       "2225           15             57       27       8  ...                8   \n",
       "5027            5             46       26       7  ...               16   \n",
       "\n",
       "      Opp.TotalRebounds  Opp.Assists  Opp.Steals  Opp.Blocks  Opp.Turnovers  \\\n",
       "7544                 47           29          12           9             14   \n",
       "3403                 53           15           4           2             22   \n",
       "8265                 53           27           5           2             10   \n",
       "2225                 30           19          11           1             12   \n",
       "5027                 53           21          10           4             12   \n",
       "\n",
       "      Opp.TotalFouls  home_is_west  away_is_west  Home  \n",
       "7544              25             0             0     0  \n",
       "3403              23             0             1     0  \n",
       "8265              18             1             1     0  \n",
       "2225              18             0             0     1  \n",
       "5027              21             0             0     1  \n",
       "\n",
       "[5 rows x 26 columns]"
      ]
     },
     "execution_count": 12,
     "metadata": {},
     "output_type": "execute_result"
    }
   ],
   "source": [
    "train.head()"
   ]
  },
  {
   "cell_type": "code",
   "execution_count": 10,
   "metadata": {},
   "outputs": [],
   "source": [
    "X_train = train.drop(columns = ['TeamPoints'])\n",
    "y_train = train.TeamPoints"
   ]
  },
  {
   "cell_type": "code",
   "execution_count": 13,
   "metadata": {
    "scrolled": true
   },
   "outputs": [
    {
     "data": {
      "text/plain": [
       "TeamPoints           1.000000\n",
       "FieldGoals.          0.715916\n",
       "Assists              0.581885\n",
       "X3PointShots.        0.479659\n",
       "Opp.TotalRebounds    0.294783\n",
       "Opp.TotalFouls       0.211711\n",
       "FreeThrows.          0.178378\n",
       "TotalFouls           0.149589\n",
       "Opp.Blocks           0.141265\n",
       "Turnovers            0.118230\n",
       "Opp.Assists          0.118153\n",
       "Home                 0.104941\n",
       "Opp.FieldGoals.      0.102473\n",
       "Opp.Steals           0.099355\n",
       "Steals               0.093689\n",
       "TotalRebounds        0.092601\n",
       "home_is_west         0.079488\n",
       "Blocks               0.060732\n",
       "Opp.3PointShots.     0.034682\n",
       "Opp.FreeThrows.      0.023883\n",
       "Opp.Turnovers        0.023673\n",
       "away_is_west         0.022586\n",
       "Opp.OffRebounds      0.012581\n",
       "OffRebounds          0.008963\n",
       "Name: TeamPoints, dtype: float64"
      ]
     },
     "execution_count": 13,
     "metadata": {},
     "output_type": "execute_result"
    }
   ],
   "source": [
    "abs(train.corr().TeamPoints).sort_values(ascending = False)"
   ]
  },
  {
   "cell_type": "markdown",
   "metadata": {},
   "source": [
    "- "
   ]
  },
  {
   "cell_type": "markdown",
   "metadata": {},
   "source": [
    "### Are the Home team point totals dramatically different from the Away team points?\n",
    "- $H_0$: The average points scored by Home and Away teams are not significantly different\n",
    "- $H_a$: The average points scored by Home and Away teams are significantly different"
   ]
  },
  {
   "cell_type": "code",
   "execution_count": 14,
   "metadata": {},
   "outputs": [],
   "source": [
    "alpha = 0.01"
   ]
  },
  {
   "cell_type": "code",
   "execution_count": 15,
   "metadata": {},
   "outputs": [],
   "source": [
    "home = train[train.Home == 1]\n",
    "away = train[train.Home == 0]\n",
    "\n",
    "t, p = stats.ttest_ind(home.TeamPoints, away.TeamPoints)"
   ]
  },
  {
   "cell_type": "code",
   "execution_count": 16,
   "metadata": {},
   "outputs": [
    {
     "name": "stdout",
     "output_type": "stream",
     "text": [
      "We reject the null hypothesis\n"
     ]
    },
    {
     "data": {
      "text/plain": [
       "5.740461831462349e-15"
      ]
     },
     "execution_count": 16,
     "metadata": {},
     "output_type": "execute_result"
    }
   ],
   "source": [
    "if p < alpha:\n",
    "    print(\"We reject the null hypothesis\")\n",
    "else:\n",
    "    print(\"We fail to reject the null hypothesis\")\n",
    "p"
   ]
  },
  {
   "cell_type": "code",
   "execution_count": 114,
   "metadata": {},
   "outputs": [
    {
     "data": {
      "image/png": "[encoded data removed]",
      "text/plain": [
       "<Figure size 720x432 with 1 Axes>"
      ]
     },
     "metadata": {
      "needs_background": "light"
     },
     "output_type": "display_data"
    }
   ],
   "source": [
    "plt.figure(figsize=(10,6))\n",
    "sns.boxplot(x=\"Home\", y=\"TeamPoints\", data=train)\n",
    "plt.title('Does being at Home Improve your Point Total?')\n",
    "plt.xticks([0, 1], ['Away', 'Home'])\n",
    "plt.ylabel('# of Points')\n",
    "plt.xlabel('')\n",
    "plt.show()"
   ]
  },
  {
   "cell_type": "code",
   "execution_count": 18,
   "metadata": {},
   "outputs": [
    {
     "name": "stdout",
     "output_type": "stream",
     "text": [
      "The average points scored for the Home team is 105.26\n"
     ]
    }
   ],
   "source": [
    "print(\"The average points scored for the Home team is\", round(train[train.Home == 1].TeamPoints.mean(),2))"
   ]
  },
  {
   "cell_type": "code",
   "execution_count": 19,
   "metadata": {},
   "outputs": [
    {
     "name": "stdout",
     "output_type": "stream",
     "text": [
      "The average points scored for the Away team is 102.69\n"
     ]
    }
   ],
   "source": [
    "print(\"The average points scored for the Away team is\", round(train[train.Home == 0].TeamPoints.mean(),2))"
   ]
  },
  {
   "cell_type": "markdown",
   "metadata": {},
   "source": [
    "**Takeaway**:\n",
    "- The difference between 105 and 103 points is not a big numerical difference but the evidence suggest that it is a significant one."
   ]
  },
  {
   "cell_type": "markdown",
   "metadata": {},
   "source": [
    "### Do Home teams in the West score more points than Home teams in the East?\n",
    "- $H_0$: The average points scored by West and East Home teams are not significantly different\n",
    "- $H_a$: The average points scored by West and East Home teams are significantly different"
   ]
  },
  {
   "cell_type": "code",
   "execution_count": 22,
   "metadata": {},
   "outputs": [],
   "source": [
    "home_west = train[train.home_is_west == 1]\n",
    "home_east = train[train.home_is_west == 0]\n",
    "\n",
    "t, p = stats.ttest_ind(home_west.TeamPoints, home_east.TeamPoints)"
   ]
  },
  {
   "cell_type": "code",
   "execution_count": 23,
   "metadata": {},
   "outputs": [
    {
     "name": "stdout",
     "output_type": "stream",
     "text": [
      "We reject the null hypothesis\n"
     ]
    },
    {
     "data": {
      "text/plain": [
       "3.454692117851272e-09"
      ]
     },
     "execution_count": 23,
     "metadata": {},
     "output_type": "execute_result"
    }
   ],
   "source": [
    "if p < alpha:\n",
    "    print(\"We reject the null hypothesis\")\n",
    "else:\n",
    "    print(\"We fail to reject the null hypothesis\")\n",
    "p"
   ]
  },
  {
   "cell_type": "code",
   "execution_count": 113,
   "metadata": {},
   "outputs": [
    {
     "data": {
      "image/png": "[encoded data removed]",
      "text/plain": [
       "<Figure size 720x432 with 1 Axes>"
      ]
     },
     "metadata": {
      "needs_background": "light"
     },
     "output_type": "display_data"
    }
   ],
   "source": [
    "plt.figure(figsize=(10,6))\n",
    "sns.boxplot(x=\"home_is_west\", y=\"TeamPoints\", data=train)\n",
    "plt.title('Do Home teams in the West score more points than Home teams in the East?')\n",
    "plt.xticks([0, 1], ['East', 'West'])\n",
    "plt.ylabel('# of Points')\n",
    "plt.xlabel('')\n",
    "plt.show()"
   ]
  },
  {
   "cell_type": "code",
   "execution_count": 26,
   "metadata": {},
   "outputs": [
    {
     "name": "stdout",
     "output_type": "stream",
     "text": [
      "The average points scored for the Home team is 104.96\n"
     ]
    }
   ],
   "source": [
    "print(\"The average points scored for the Home team in the West is\", round(train[train.home_is_west == 1].TeamPoints.mean(),2))"
   ]
  },
  {
   "cell_type": "code",
   "execution_count": 27,
   "metadata": {},
   "outputs": [
    {
     "name": "stdout",
     "output_type": "stream",
     "text": [
      "The average points scored for the Home team in the East is 103.01\n"
     ]
    }
   ],
   "source": [
    "print(\"The average points scored for the Home team in the East is\", round(train[train.home_is_west == 0].TeamPoints.mean(),2))"
   ]
  },
  {
   "cell_type": "markdown",
   "metadata": {},
   "source": [
    "**Takeaway**:\n",
    "- The difference between 105 and 103 points is not a big numerical difference but the evidence suggest that it is a significant one."
   ]
  },
  {
   "cell_type": "markdown",
   "metadata": {},
   "source": [
    "### Do Away teams in the West score more points than Away teams in the East?\n",
    "- $H_0$: The average points scored by West and East Away teams are not significantly different\n",
    "- $H_a$: The average points scored by West and East Away teams are significantly different"
   ]
  },
  {
   "cell_type": "code",
   "execution_count": 29,
   "metadata": {},
   "outputs": [],
   "source": [
    "away_west = train[train.away_is_west == 1]\n",
    "away_east = train[train.away_is_west == 0]\n",
    "\n",
    "t, p = stats.ttest_ind(away_west.TeamPoints, away_east.TeamPoints)"
   ]
  },
  {
   "cell_type": "code",
   "execution_count": 30,
   "metadata": {},
   "outputs": [
    {
     "name": "stdout",
     "output_type": "stream",
     "text": [
      "We fail to reject the null hypothesis\n"
     ]
    },
    {
     "data": {
      "text/plain": [
       "0.09366749466158963"
      ]
     },
     "execution_count": 30,
     "metadata": {},
     "output_type": "execute_result"
    }
   ],
   "source": [
    "if p < alpha:\n",
    "    print(\"We reject the null hypothesis\")\n",
    "else:\n",
    "    print(\"We fail to reject the null hypothesis\")\n",
    "p"
   ]
  },
  {
   "cell_type": "code",
   "execution_count": 112,
   "metadata": {},
   "outputs": [
    {
     "data": {
      "image/png": "[encoded data removed]",
      "text/plain": [
       "<Figure size 720x432 with 1 Axes>"
      ]
     },
     "metadata": {
      "needs_background": "light"
     },
     "output_type": "display_data"
    }
   ],
   "source": [
    "plt.figure(figsize=(10,6))\n",
    "sns.boxplot(x=\"away_is_west\", y=\"TeamPoints\", data=train)\n",
    "plt.title('Do Away teams in the West score more points than Away teams in the East?')\n",
    "plt.xticks([0, 1], ['East', 'West'])\n",
    "plt.ylabel('# of Points')\n",
    "plt.xlabel('')\n",
    "plt.show()"
   ]
  },
  {
   "cell_type": "code",
   "execution_count": 32,
   "metadata": {},
   "outputs": [
    {
     "name": "stdout",
     "output_type": "stream",
     "text": [
      "The average points scored for the Away team in the West is 104.26\n"
     ]
    }
   ],
   "source": [
    "print(\"The average points scored for the Away team in the West is\", round(train[train.away_is_west == 1].TeamPoints.mean(),2))"
   ]
  },
  {
   "cell_type": "code",
   "execution_count": 33,
   "metadata": {},
   "outputs": [
    {
     "name": "stdout",
     "output_type": "stream",
     "text": [
      "The average points scored for the Away team in the East is 103.71\n"
     ]
    }
   ],
   "source": [
    "print(\"The average points scored for the Away team in the East is\", round(train[train.away_is_west == 0].TeamPoints.mean(),2))"
   ]
  },
  {
   "cell_type": "markdown",
   "metadata": {},
   "source": [
    "**Takeaway**:\n",
    "- The data shows that the points scored by an Away East team and an Away West team is only half a point\n",
    "- The difference is not significant enough to state one conference score more points than the other when they are away. "
   ]
  },
  {
   "cell_type": "markdown",
   "metadata": {},
   "source": [
    "### Is there a significant difference between points scored by a team and their opponents blocks?\n",
    "- $H_0$: The average points scored by a team and the number of their opponents blocks are not significantly different\n",
    "- $H_a$: The average points scored by a team and the number of their opponents blocks are significantly different"
   ]
  },
  {
   "cell_type": "code",
   "execution_count": 38,
   "metadata": {},
   "outputs": [
    {
     "data": {
      "text/plain": [
       "4     972\n",
       "5     822\n",
       "3     821\n",
       "6     659\n",
       "2     573\n",
       "7     491\n",
       "8     323\n",
       "1     289\n",
       "9     197\n",
       "0     105\n",
       "10    104\n",
       "11     83\n",
       "12     30\n",
       "13     25\n",
       "14      9\n",
       "15      3\n",
       "16      2\n",
       "17      2\n",
       "Name: Opp.Blocks, dtype: int64"
      ]
     },
     "execution_count": 38,
     "metadata": {},
     "output_type": "execute_result"
    }
   ],
   "source": [
    "train['Opp.Blocks'].value_counts()"
   ]
  },
  {
   "cell_type": "code",
   "execution_count": 83,
   "metadata": {},
   "outputs": [],
   "source": [
    "no_blocks = train[train['Opp.Blocks'] == 0].TeamPoints\n",
    "one_blocks = train[train['Opp.Blocks'] == 1].TeamPoints\n",
    "two_blocks = train[train['Opp.Blocks'] == 2].TeamPoints\n",
    "three_blocks = train[train['Opp.Blocks'] == 3].TeamPoints\n",
    "four_blocks = train[train['Opp.Blocks'] == 4].TeamPoints\n",
    "five_blocks = train[train['Opp.Blocks'] == 5].TeamPoints\n",
    "six_blocks = train[train['Opp.Blocks'] == 6].TeamPoints\n",
    "seven_blocks = train[train['Opp.Blocks'] == 7].TeamPoints\n",
    "eight_blocks = train[train['Opp.Blocks'] == 8].TeamPoints\n",
    "nine_blocks = train[train['Opp.Blocks'] == 9].TeamPoints\n",
    "ten_blocks = train[train['Opp.Blocks'] == 10].TeamPoints\n",
    "eleven_blocks = train[train['Opp.Blocks'] == 11].TeamPoints\n",
    "twelve_blocks = train[train['Opp.Blocks'] == 12].TeamPoints\n",
    "thirteen_blocks = train[train['Opp.Blocks'] == 13].TeamPoints\n",
    "fourteen_blocks = train[train['Opp.Blocks'] == 14].TeamPoints\n",
    "fifteen_blocks = train[train['Opp.Blocks'] == 15].TeamPoints\n",
    "sixteen_blocks = train[train['Opp.Blocks'] == 16].TeamPoints\n",
    "seventeen_blocks = train[train['Opp.Blocks'] == 17].TeamPoints"
   ]
  },
  {
   "cell_type": "code",
   "execution_count": 86,
   "metadata": {},
   "outputs": [],
   "source": [
    "f, p = f_oneway(no_blocks, one_blocks, two_blocks, three_blocks, four_blocks, five_blocks, six_blocks, seven_blocks, eight_blocks, nine_blocks, ten_blocks, eleven_blocks, twelve_blocks, thirteen_blocks, fourteen_blocks, fifteen_blocks, sixteen_blocks, seventeen_blocks)"
   ]
  },
  {
   "cell_type": "code",
   "execution_count": 87,
   "metadata": {},
   "outputs": [
    {
     "name": "stdout",
     "output_type": "stream",
     "text": [
      "We reject the null\n"
     ]
    },
    {
     "data": {
      "text/plain": [
       "1.51080949193264e-18"
      ]
     },
     "execution_count": 87,
     "metadata": {},
     "output_type": "execute_result"
    }
   ],
   "source": [
    "if p < alpha:\n",
    "    print(\"We reject the null\")\n",
    "else:\n",
    "    print(\"We fail to reject the null\")\n",
    "p"
   ]
  },
  {
   "cell_type": "code",
   "execution_count": 110,
   "metadata": {},
   "outputs": [
    {
     "data": {
      "image/png": "[encoded data removed]",
      "text/plain": [
       "<Figure size 1080x576 with 1 Axes>"
      ]
     },
     "metadata": {
      "needs_background": "light"
     },
     "output_type": "display_data"
    }
   ],
   "source": [
    "plt.figure(figsize=(15,8))\n",
    "sns.boxplot(x=\"Opp.Blocks\", y=\"TeamPoints\", data=train)\n",
    "plt.title('Do Points scored by a Team differ by the number of their Opponents Blocks?')\n",
    "plt.ylabel('# of Points')\n",
    "plt.xlabel('Number of Blocks')\n",
    "plt.show()"
   ]
  },
  {
   "cell_type": "markdown",
   "metadata": {},
   "source": [
    "**Takeaway**:\n",
    "- The data shows that there difference is a significant difference to between points scored by a team and the number of their opponents blocks.\n",
    "- It appears that as the number of blocks by their opponents increase, the amoun of points scored by a team decreases.\n",
    "- There are a few outliers and exceptions but there is a very small sample size for opponents blocks for numbers greater than 10."
   ]
  },
  {
   "cell_type": "code",
   "execution_count": null,
   "metadata": {},
   "outputs": [],
   "source": []
  }
 ],
 "metadata": {
  "kernelspec": {
   "display_name": "Python 3",
   "language": "python",
   "name": "python3"
  },
  "language_info": {
   "codemirror_mode": {
    "name": "ipython",
    "version": 3
   },
   "file_extension": ".py",
   "mimetype": "text/x-python",
   "name": "python",
   "nbconvert_exporter": "python",
   "pygments_lexer": "ipython3",
   "version": "3.7.9"
  }
 },
 "nbformat": 4,
 "nbformat_minor": 4
}
