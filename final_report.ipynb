{
 "cells": [
  {
   "cell_type": "markdown",
   "metadata": {},
   "source": [
    "# Talking Points"
   ]
  },
  {
   "cell_type": "markdown",
   "metadata": {},
   "source": [
    "Finding the drivers of point total from the 2014-2018 seasons"
   ]
  },
  {
   "cell_type": "code",
   "execution_count": 2,
   "metadata": {},
   "outputs": [],
   "source": [
    "#acquire libraries\n",
    "import pandas as pd\n",
    "\n",
    "#explore libraries\n",
    "import numpy as np\n",
    "import seaborn as sns\n",
    "import matplotlib.pyplot as plt\n",
    "from scipy import stats\n",
    "\n",
    "from prepare import wrangle_nba, scaled_wrangle_nba\n",
    "from explore import elbow_plot, run_kmeans, add_to_train\n",
    "\n",
    "#model libraries\n",
    "from model import (select_kbest, rfe, linearReg_train, \n",
    "lassoLars_train, poly_linearReg_train, linearReg_validate,\n",
    "lassoLars_validate, poly_linearReg_validate)\n",
    "\n",
    "\n",
    "\n",
    "import warnings\n",
    "warnings.filterwarnings(\"ignore\")"
   ]
  },
  {
   "cell_type": "markdown",
   "metadata": {},
   "source": [
    "## Acquire"
   ]
  },
  {
   "cell_type": "code",
   "execution_count": 3,
   "metadata": {},
   "outputs": [],
   "source": [
    "#uploading the nba csv and saving it as a dataframe called nba\n",
    "nba = pd.read_csv('nba.games.stats.csv')"
   ]
  },
  {
   "cell_type": "markdown",
   "metadata": {},
   "source": [
    "### Initial Analysis of the Data"
   ]
  },
  {
   "cell_type": "code",
   "execution_count": 4,
   "metadata": {},
   "outputs": [
    {
     "data": {
      "text/html": [
       "<div>\n",
       "<style scoped>\n",
       "    .dataframe tbody tr th:only-of-type {\n",
       "        vertical-align: middle;\n",
       "    }\n",
       "\n",
       "    .dataframe tbody tr th {\n",
       "        vertical-align: top;\n",
       "    }\n",
       "\n",
       "    .dataframe thead th {\n",
       "        text-align: right;\n",
       "    }\n",
       "</style>\n",
       "<table border=\"1\" class=\"dataframe\">\n",
       "  <thead>\n",
       "    <tr style=\"text-align: right;\">\n",
       "      <th></th>\n",
       "      <th>Unnamed: 0</th>\n",
       "      <th>Team</th>\n",
       "      <th>Game</th>\n",
       "      <th>Date</th>\n",
       "      <th>Home</th>\n",
       "      <th>Opponent</th>\n",
       "      <th>WINorLOSS</th>\n",
       "      <th>TeamPoints</th>\n",
       "      <th>OpponentPoints</th>\n",
       "      <th>FieldGoals</th>\n",
       "      <th>...</th>\n",
       "      <th>Opp.FreeThrows</th>\n",
       "      <th>Opp.FreeThrowsAttempted</th>\n",
       "      <th>Opp.FreeThrows.</th>\n",
       "      <th>Opp.OffRebounds</th>\n",
       "      <th>Opp.TotalRebounds</th>\n",
       "      <th>Opp.Assists</th>\n",
       "      <th>Opp.Steals</th>\n",
       "      <th>Opp.Blocks</th>\n",
       "      <th>Opp.Turnovers</th>\n",
       "      <th>Opp.TotalFouls</th>\n",
       "    </tr>\n",
       "  </thead>\n",
       "  <tbody>\n",
       "    <tr>\n",
       "      <th>0</th>\n",
       "      <td>1</td>\n",
       "      <td>ATL</td>\n",
       "      <td>1</td>\n",
       "      <td>2014-10-29</td>\n",
       "      <td>Away</td>\n",
       "      <td>TOR</td>\n",
       "      <td>L</td>\n",
       "      <td>102</td>\n",
       "      <td>109</td>\n",
       "      <td>40</td>\n",
       "      <td>...</td>\n",
       "      <td>27</td>\n",
       "      <td>33</td>\n",
       "      <td>0.818</td>\n",
       "      <td>16</td>\n",
       "      <td>48</td>\n",
       "      <td>26</td>\n",
       "      <td>13</td>\n",
       "      <td>9</td>\n",
       "      <td>9</td>\n",
       "      <td>22</td>\n",
       "    </tr>\n",
       "    <tr>\n",
       "      <th>1</th>\n",
       "      <td>2</td>\n",
       "      <td>ATL</td>\n",
       "      <td>2</td>\n",
       "      <td>2014-11-01</td>\n",
       "      <td>Home</td>\n",
       "      <td>IND</td>\n",
       "      <td>W</td>\n",
       "      <td>102</td>\n",
       "      <td>92</td>\n",
       "      <td>35</td>\n",
       "      <td>...</td>\n",
       "      <td>18</td>\n",
       "      <td>21</td>\n",
       "      <td>0.857</td>\n",
       "      <td>11</td>\n",
       "      <td>44</td>\n",
       "      <td>25</td>\n",
       "      <td>5</td>\n",
       "      <td>5</td>\n",
       "      <td>18</td>\n",
       "      <td>26</td>\n",
       "    </tr>\n",
       "    <tr>\n",
       "      <th>2</th>\n",
       "      <td>3</td>\n",
       "      <td>ATL</td>\n",
       "      <td>3</td>\n",
       "      <td>2014-11-05</td>\n",
       "      <td>Away</td>\n",
       "      <td>SAS</td>\n",
       "      <td>L</td>\n",
       "      <td>92</td>\n",
       "      <td>94</td>\n",
       "      <td>38</td>\n",
       "      <td>...</td>\n",
       "      <td>27</td>\n",
       "      <td>38</td>\n",
       "      <td>0.711</td>\n",
       "      <td>11</td>\n",
       "      <td>50</td>\n",
       "      <td>25</td>\n",
       "      <td>7</td>\n",
       "      <td>9</td>\n",
       "      <td>19</td>\n",
       "      <td>15</td>\n",
       "    </tr>\n",
       "    <tr>\n",
       "      <th>3</th>\n",
       "      <td>4</td>\n",
       "      <td>ATL</td>\n",
       "      <td>4</td>\n",
       "      <td>2014-11-07</td>\n",
       "      <td>Away</td>\n",
       "      <td>CHO</td>\n",
       "      <td>L</td>\n",
       "      <td>119</td>\n",
       "      <td>122</td>\n",
       "      <td>43</td>\n",
       "      <td>...</td>\n",
       "      <td>20</td>\n",
       "      <td>27</td>\n",
       "      <td>0.741</td>\n",
       "      <td>11</td>\n",
       "      <td>51</td>\n",
       "      <td>31</td>\n",
       "      <td>6</td>\n",
       "      <td>7</td>\n",
       "      <td>19</td>\n",
       "      <td>30</td>\n",
       "    </tr>\n",
       "    <tr>\n",
       "      <th>4</th>\n",
       "      <td>5</td>\n",
       "      <td>ATL</td>\n",
       "      <td>5</td>\n",
       "      <td>2014-11-08</td>\n",
       "      <td>Home</td>\n",
       "      <td>NYK</td>\n",
       "      <td>W</td>\n",
       "      <td>103</td>\n",
       "      <td>96</td>\n",
       "      <td>33</td>\n",
       "      <td>...</td>\n",
       "      <td>8</td>\n",
       "      <td>11</td>\n",
       "      <td>0.727</td>\n",
       "      <td>13</td>\n",
       "      <td>44</td>\n",
       "      <td>26</td>\n",
       "      <td>2</td>\n",
       "      <td>6</td>\n",
       "      <td>15</td>\n",
       "      <td>29</td>\n",
       "    </tr>\n",
       "  </tbody>\n",
       "</table>\n",
       "<p>5 rows × 41 columns</p>\n",
       "</div>"
      ],
      "text/plain": [
       "   Unnamed: 0 Team  Game        Date  Home Opponent WINorLOSS  TeamPoints  \\\n",
       "0           1  ATL     1  2014-10-29  Away      TOR         L         102   \n",
       "1           2  ATL     2  2014-11-01  Home      IND         W         102   \n",
       "2           3  ATL     3  2014-11-05  Away      SAS         L          92   \n",
       "3           4  ATL     4  2014-11-07  Away      CHO         L         119   \n",
       "4           5  ATL     5  2014-11-08  Home      NYK         W         103   \n",
       "\n",
       "   OpponentPoints  FieldGoals  ...  Opp.FreeThrows  Opp.FreeThrowsAttempted  \\\n",
       "0             109          40  ...              27                       33   \n",
       "1              92          35  ...              18                       21   \n",
       "2              94          38  ...              27                       38   \n",
       "3             122          43  ...              20                       27   \n",
       "4              96          33  ...               8                       11   \n",
       "\n",
       "   Opp.FreeThrows.  Opp.OffRebounds  Opp.TotalRebounds  Opp.Assists  \\\n",
       "0            0.818               16                 48           26   \n",
       "1            0.857               11                 44           25   \n",
       "2            0.711               11                 50           25   \n",
       "3            0.741               11                 51           31   \n",
       "4            0.727               13                 44           26   \n",
       "\n",
       "   Opp.Steals  Opp.Blocks  Opp.Turnovers  Opp.TotalFouls  \n",
       "0          13           9              9              22  \n",
       "1           5           5             18              26  \n",
       "2           7           9             19              15  \n",
       "3           6           7             19              30  \n",
       "4           2           6             15              29  \n",
       "\n",
       "[5 rows x 41 columns]"
      ]
     },
     "execution_count": 4,
     "metadata": {},
     "output_type": "execute_result"
    }
   ],
   "source": [
    "#sneak peak into the data\n",
    "nba.head()"
   ]
  },
  {
   "cell_type": "code",
   "execution_count": 5,
   "metadata": {},
   "outputs": [
    {
     "data": {
      "text/plain": [
       "(9840, 41)"
      ]
     },
     "execution_count": 5,
     "metadata": {},
     "output_type": "execute_result"
    }
   ],
   "source": [
    "#checking to see how many rows and columns there are\n",
    "nba.shape"
   ]
  },
  {
   "cell_type": "code",
   "execution_count": 6,
   "metadata": {},
   "outputs": [
    {
     "name": "stdout",
     "output_type": "stream",
     "text": [
      "<class 'pandas.core.frame.DataFrame'>\n",
      "RangeIndex: 9840 entries, 0 to 9839\n",
      "Data columns (total 41 columns):\n",
      " #   Column                    Non-Null Count  Dtype  \n",
      "---  ------                    --------------  -----  \n",
      " 0   Unnamed: 0                9840 non-null   int64  \n",
      " 1   Team                      9840 non-null   object \n",
      " 2   Game                      9840 non-null   int64  \n",
      " 3   Date                      9840 non-null   object \n",
      " 4   Home                      9840 non-null   object \n",
      " 5   Opponent                  9840 non-null   object \n",
      " 6   WINorLOSS                 9840 non-null   object \n",
      " 7   TeamPoints                9840 non-null   int64  \n",
      " 8   OpponentPoints            9840 non-null   int64  \n",
      " 9   FieldGoals                9840 non-null   int64  \n",
      " 10  FieldGoalsAttempted       9840 non-null   int64  \n",
      " 11  FieldGoals.               9840 non-null   float64\n",
      " 12  X3PointShots              9840 non-null   int64  \n",
      " 13  X3PointShotsAttempted     9840 non-null   int64  \n",
      " 14  X3PointShots.             9840 non-null   float64\n",
      " 15  FreeThrows                9840 non-null   int64  \n",
      " 16  FreeThrowsAttempted       9840 non-null   int64  \n",
      " 17  FreeThrows.               9840 non-null   float64\n",
      " 18  OffRebounds               9840 non-null   int64  \n",
      " 19  TotalRebounds             9840 non-null   int64  \n",
      " 20  Assists                   9840 non-null   int64  \n",
      " 21  Steals                    9840 non-null   int64  \n",
      " 22  Blocks                    9840 non-null   int64  \n",
      " 23  Turnovers                 9840 non-null   int64  \n",
      " 24  TotalFouls                9840 non-null   int64  \n",
      " 25  Opp.FieldGoals            9840 non-null   int64  \n",
      " 26  Opp.FieldGoalsAttempted   9840 non-null   int64  \n",
      " 27  Opp.FieldGoals.           9840 non-null   float64\n",
      " 28  Opp.3PointShots           9840 non-null   int64  \n",
      " 29  Opp.3PointShotsAttempted  9840 non-null   int64  \n",
      " 30  Opp.3PointShots.          9840 non-null   float64\n",
      " 31  Opp.FreeThrows            9840 non-null   int64  \n",
      " 32  Opp.FreeThrowsAttempted   9840 non-null   int64  \n",
      " 33  Opp.FreeThrows.           9840 non-null   float64\n",
      " 34  Opp.OffRebounds           9840 non-null   int64  \n",
      " 35  Opp.TotalRebounds         9840 non-null   int64  \n",
      " 36  Opp.Assists               9840 non-null   int64  \n",
      " 37  Opp.Steals                9840 non-null   int64  \n",
      " 38  Opp.Blocks                9840 non-null   int64  \n",
      " 39  Opp.Turnovers             9840 non-null   int64  \n",
      " 40  Opp.TotalFouls            9840 non-null   int64  \n",
      "dtypes: float64(6), int64(30), object(5)\n",
      "memory usage: 3.1+ MB\n"
     ]
    }
   ],
   "source": [
    "#checking data types, null values, and column names\n",
    "nba.info()"
   ]
  },
  {
   "cell_type": "code",
   "execution_count": 7,
   "metadata": {},
   "outputs": [
    {
     "data": {
      "text/html": [
       "<div>\n",
       "<style scoped>\n",
       "    .dataframe tbody tr th:only-of-type {\n",
       "        vertical-align: middle;\n",
       "    }\n",
       "\n",
       "    .dataframe tbody tr th {\n",
       "        vertical-align: top;\n",
       "    }\n",
       "\n",
       "    .dataframe thead th {\n",
       "        text-align: right;\n",
       "    }\n",
       "</style>\n",
       "<table border=\"1\" class=\"dataframe\">\n",
       "  <thead>\n",
       "    <tr style=\"text-align: right;\">\n",
       "      <th></th>\n",
       "      <th>count</th>\n",
       "      <th>mean</th>\n",
       "      <th>std</th>\n",
       "      <th>min</th>\n",
       "      <th>25%</th>\n",
       "      <th>50%</th>\n",
       "      <th>75%</th>\n",
       "      <th>max</th>\n",
       "    </tr>\n",
       "  </thead>\n",
       "  <tbody>\n",
       "    <tr>\n",
       "      <th>Unnamed: 0</th>\n",
       "      <td>9840.0</td>\n",
       "      <td>11960.157012</td>\n",
       "      <td>18654.867508</td>\n",
       "      <td>1.000</td>\n",
       "      <td>2537.750</td>\n",
       "      <td>5141.500</td>\n",
       "      <td>7715.250</td>\n",
       "      <td>82119.000</td>\n",
       "    </tr>\n",
       "    <tr>\n",
       "      <th>Game</th>\n",
       "      <td>9840.0</td>\n",
       "      <td>41.500000</td>\n",
       "      <td>23.670804</td>\n",
       "      <td>1.000</td>\n",
       "      <td>21.000</td>\n",
       "      <td>41.500</td>\n",
       "      <td>62.000</td>\n",
       "      <td>82.000</td>\n",
       "    </tr>\n",
       "    <tr>\n",
       "      <th>TeamPoints</th>\n",
       "      <td>9840.0</td>\n",
       "      <td>103.652337</td>\n",
       "      <td>12.188043</td>\n",
       "      <td>64.000</td>\n",
       "      <td>95.000</td>\n",
       "      <td>103.000</td>\n",
       "      <td>112.000</td>\n",
       "      <td>149.000</td>\n",
       "    </tr>\n",
       "    <tr>\n",
       "      <th>OpponentPoints</th>\n",
       "      <td>9840.0</td>\n",
       "      <td>103.652337</td>\n",
       "      <td>12.188043</td>\n",
       "      <td>64.000</td>\n",
       "      <td>95.000</td>\n",
       "      <td>103.000</td>\n",
       "      <td>112.000</td>\n",
       "      <td>149.000</td>\n",
       "    </tr>\n",
       "    <tr>\n",
       "      <th>FieldGoals</th>\n",
       "      <td>9840.0</td>\n",
       "      <td>38.602439</td>\n",
       "      <td>5.029992</td>\n",
       "      <td>19.000</td>\n",
       "      <td>35.000</td>\n",
       "      <td>38.000</td>\n",
       "      <td>42.000</td>\n",
       "      <td>58.000</td>\n",
       "    </tr>\n",
       "    <tr>\n",
       "      <th>FieldGoalsAttempted</th>\n",
       "      <td>9840.0</td>\n",
       "      <td>84.902439</td>\n",
       "      <td>7.130043</td>\n",
       "      <td>60.000</td>\n",
       "      <td>80.000</td>\n",
       "      <td>85.000</td>\n",
       "      <td>89.000</td>\n",
       "      <td>129.000</td>\n",
       "    </tr>\n",
       "    <tr>\n",
       "      <th>FieldGoals.</th>\n",
       "      <td>9840.0</td>\n",
       "      <td>0.455689</td>\n",
       "      <td>0.054711</td>\n",
       "      <td>0.271</td>\n",
       "      <td>0.418</td>\n",
       "      <td>0.455</td>\n",
       "      <td>0.494</td>\n",
       "      <td>0.684</td>\n",
       "    </tr>\n",
       "    <tr>\n",
       "      <th>X3PointShots</th>\n",
       "      <td>9840.0</td>\n",
       "      <td>9.126829</td>\n",
       "      <td>3.598084</td>\n",
       "      <td>0.000</td>\n",
       "      <td>7.000</td>\n",
       "      <td>9.000</td>\n",
       "      <td>11.000</td>\n",
       "      <td>25.000</td>\n",
       "    </tr>\n",
       "    <tr>\n",
       "      <th>X3PointShotsAttempted</th>\n",
       "      <td>9840.0</td>\n",
       "      <td>25.623679</td>\n",
       "      <td>7.102501</td>\n",
       "      <td>4.000</td>\n",
       "      <td>21.000</td>\n",
       "      <td>25.000</td>\n",
       "      <td>30.000</td>\n",
       "      <td>61.000</td>\n",
       "    </tr>\n",
       "    <tr>\n",
       "      <th>X3PointShots.</th>\n",
       "      <td>9840.0</td>\n",
       "      <td>0.354321</td>\n",
       "      <td>0.097782</td>\n",
       "      <td>0.000</td>\n",
       "      <td>0.290</td>\n",
       "      <td>0.353</td>\n",
       "      <td>0.419</td>\n",
       "      <td>0.750</td>\n",
       "    </tr>\n",
       "    <tr>\n",
       "      <th>FreeThrows</th>\n",
       "      <td>9840.0</td>\n",
       "      <td>17.320630</td>\n",
       "      <td>6.002620</td>\n",
       "      <td>1.000</td>\n",
       "      <td>13.000</td>\n",
       "      <td>17.000</td>\n",
       "      <td>21.000</td>\n",
       "      <td>44.000</td>\n",
       "    </tr>\n",
       "    <tr>\n",
       "      <th>FreeThrowsAttempted</th>\n",
       "      <td>9840.0</td>\n",
       "      <td>22.749390</td>\n",
       "      <td>7.390451</td>\n",
       "      <td>1.000</td>\n",
       "      <td>18.000</td>\n",
       "      <td>22.000</td>\n",
       "      <td>27.000</td>\n",
       "      <td>64.000</td>\n",
       "    </tr>\n",
       "    <tr>\n",
       "      <th>FreeThrows.</th>\n",
       "      <td>9840.0</td>\n",
       "      <td>0.762395</td>\n",
       "      <td>0.104297</td>\n",
       "      <td>0.143</td>\n",
       "      <td>0.696</td>\n",
       "      <td>0.769</td>\n",
       "      <td>0.833</td>\n",
       "      <td>1.000</td>\n",
       "    </tr>\n",
       "    <tr>\n",
       "      <th>OffRebounds</th>\n",
       "      <td>9840.0</td>\n",
       "      <td>10.287602</td>\n",
       "      <td>3.807120</td>\n",
       "      <td>0.000</td>\n",
       "      <td>8.000</td>\n",
       "      <td>10.000</td>\n",
       "      <td>13.000</td>\n",
       "      <td>38.000</td>\n",
       "    </tr>\n",
       "    <tr>\n",
       "      <th>TotalRebounds</th>\n",
       "      <td>9840.0</td>\n",
       "      <td>43.520630</td>\n",
       "      <td>6.410428</td>\n",
       "      <td>20.000</td>\n",
       "      <td>39.000</td>\n",
       "      <td>43.000</td>\n",
       "      <td>48.000</td>\n",
       "      <td>81.000</td>\n",
       "    </tr>\n",
       "    <tr>\n",
       "      <th>Assists</th>\n",
       "      <td>9840.0</td>\n",
       "      <td>22.546545</td>\n",
       "      <td>5.122989</td>\n",
       "      <td>6.000</td>\n",
       "      <td>19.000</td>\n",
       "      <td>22.000</td>\n",
       "      <td>26.000</td>\n",
       "      <td>47.000</td>\n",
       "    </tr>\n",
       "    <tr>\n",
       "      <th>Steals</th>\n",
       "      <td>9840.0</td>\n",
       "      <td>7.750508</td>\n",
       "      <td>2.958886</td>\n",
       "      <td>0.000</td>\n",
       "      <td>6.000</td>\n",
       "      <td>8.000</td>\n",
       "      <td>10.000</td>\n",
       "      <td>21.000</td>\n",
       "    </tr>\n",
       "    <tr>\n",
       "      <th>Blocks</th>\n",
       "      <td>9840.0</td>\n",
       "      <td>4.827642</td>\n",
       "      <td>2.536845</td>\n",
       "      <td>0.000</td>\n",
       "      <td>3.000</td>\n",
       "      <td>5.000</td>\n",
       "      <td>6.000</td>\n",
       "      <td>18.000</td>\n",
       "    </tr>\n",
       "    <tr>\n",
       "      <th>Turnovers</th>\n",
       "      <td>9840.0</td>\n",
       "      <td>13.638618</td>\n",
       "      <td>3.869543</td>\n",
       "      <td>2.000</td>\n",
       "      <td>11.000</td>\n",
       "      <td>13.000</td>\n",
       "      <td>16.000</td>\n",
       "      <td>29.000</td>\n",
       "    </tr>\n",
       "    <tr>\n",
       "      <th>TotalFouls</th>\n",
       "      <td>9840.0</td>\n",
       "      <td>20.058537</td>\n",
       "      <td>4.317611</td>\n",
       "      <td>7.000</td>\n",
       "      <td>17.000</td>\n",
       "      <td>20.000</td>\n",
       "      <td>23.000</td>\n",
       "      <td>42.000</td>\n",
       "    </tr>\n",
       "    <tr>\n",
       "      <th>Opp.FieldGoals</th>\n",
       "      <td>9840.0</td>\n",
       "      <td>38.602439</td>\n",
       "      <td>5.029992</td>\n",
       "      <td>19.000</td>\n",
       "      <td>35.000</td>\n",
       "      <td>38.000</td>\n",
       "      <td>42.000</td>\n",
       "      <td>58.000</td>\n",
       "    </tr>\n",
       "    <tr>\n",
       "      <th>Opp.FieldGoalsAttempted</th>\n",
       "      <td>9840.0</td>\n",
       "      <td>84.902439</td>\n",
       "      <td>7.130043</td>\n",
       "      <td>60.000</td>\n",
       "      <td>80.000</td>\n",
       "      <td>85.000</td>\n",
       "      <td>89.000</td>\n",
       "      <td>129.000</td>\n",
       "    </tr>\n",
       "    <tr>\n",
       "      <th>Opp.FieldGoals.</th>\n",
       "      <td>9840.0</td>\n",
       "      <td>0.455689</td>\n",
       "      <td>0.054711</td>\n",
       "      <td>0.271</td>\n",
       "      <td>0.418</td>\n",
       "      <td>0.455</td>\n",
       "      <td>0.494</td>\n",
       "      <td>0.684</td>\n",
       "    </tr>\n",
       "    <tr>\n",
       "      <th>Opp.3PointShots</th>\n",
       "      <td>9840.0</td>\n",
       "      <td>9.126829</td>\n",
       "      <td>3.598084</td>\n",
       "      <td>0.000</td>\n",
       "      <td>7.000</td>\n",
       "      <td>9.000</td>\n",
       "      <td>11.000</td>\n",
       "      <td>25.000</td>\n",
       "    </tr>\n",
       "    <tr>\n",
       "      <th>Opp.3PointShotsAttempted</th>\n",
       "      <td>9840.0</td>\n",
       "      <td>25.623679</td>\n",
       "      <td>7.102501</td>\n",
       "      <td>4.000</td>\n",
       "      <td>21.000</td>\n",
       "      <td>25.000</td>\n",
       "      <td>30.000</td>\n",
       "      <td>61.000</td>\n",
       "    </tr>\n",
       "    <tr>\n",
       "      <th>Opp.3PointShots.</th>\n",
       "      <td>9840.0</td>\n",
       "      <td>0.354321</td>\n",
       "      <td>0.097782</td>\n",
       "      <td>0.000</td>\n",
       "      <td>0.290</td>\n",
       "      <td>0.353</td>\n",
       "      <td>0.419</td>\n",
       "      <td>0.750</td>\n",
       "    </tr>\n",
       "    <tr>\n",
       "      <th>Opp.FreeThrows</th>\n",
       "      <td>9840.0</td>\n",
       "      <td>17.320630</td>\n",
       "      <td>6.002620</td>\n",
       "      <td>1.000</td>\n",
       "      <td>13.000</td>\n",
       "      <td>17.000</td>\n",
       "      <td>21.000</td>\n",
       "      <td>44.000</td>\n",
       "    </tr>\n",
       "    <tr>\n",
       "      <th>Opp.FreeThrowsAttempted</th>\n",
       "      <td>9840.0</td>\n",
       "      <td>22.749390</td>\n",
       "      <td>7.390451</td>\n",
       "      <td>1.000</td>\n",
       "      <td>18.000</td>\n",
       "      <td>22.000</td>\n",
       "      <td>27.000</td>\n",
       "      <td>64.000</td>\n",
       "    </tr>\n",
       "    <tr>\n",
       "      <th>Opp.FreeThrows.</th>\n",
       "      <td>9840.0</td>\n",
       "      <td>0.762395</td>\n",
       "      <td>0.104297</td>\n",
       "      <td>0.143</td>\n",
       "      <td>0.696</td>\n",
       "      <td>0.769</td>\n",
       "      <td>0.833</td>\n",
       "      <td>1.000</td>\n",
       "    </tr>\n",
       "    <tr>\n",
       "      <th>Opp.OffRebounds</th>\n",
       "      <td>9840.0</td>\n",
       "      <td>10.287602</td>\n",
       "      <td>3.807120</td>\n",
       "      <td>0.000</td>\n",
       "      <td>8.000</td>\n",
       "      <td>10.000</td>\n",
       "      <td>13.000</td>\n",
       "      <td>38.000</td>\n",
       "    </tr>\n",
       "    <tr>\n",
       "      <th>Opp.TotalRebounds</th>\n",
       "      <td>9840.0</td>\n",
       "      <td>43.520630</td>\n",
       "      <td>6.410428</td>\n",
       "      <td>20.000</td>\n",
       "      <td>39.000</td>\n",
       "      <td>43.000</td>\n",
       "      <td>48.000</td>\n",
       "      <td>81.000</td>\n",
       "    </tr>\n",
       "    <tr>\n",
       "      <th>Opp.Assists</th>\n",
       "      <td>9840.0</td>\n",
       "      <td>22.546545</td>\n",
       "      <td>5.122989</td>\n",
       "      <td>6.000</td>\n",
       "      <td>19.000</td>\n",
       "      <td>22.000</td>\n",
       "      <td>26.000</td>\n",
       "      <td>47.000</td>\n",
       "    </tr>\n",
       "    <tr>\n",
       "      <th>Opp.Steals</th>\n",
       "      <td>9840.0</td>\n",
       "      <td>7.750508</td>\n",
       "      <td>2.958886</td>\n",
       "      <td>0.000</td>\n",
       "      <td>6.000</td>\n",
       "      <td>8.000</td>\n",
       "      <td>10.000</td>\n",
       "      <td>21.000</td>\n",
       "    </tr>\n",
       "    <tr>\n",
       "      <th>Opp.Blocks</th>\n",
       "      <td>9840.0</td>\n",
       "      <td>4.827642</td>\n",
       "      <td>2.536845</td>\n",
       "      <td>0.000</td>\n",
       "      <td>3.000</td>\n",
       "      <td>5.000</td>\n",
       "      <td>6.000</td>\n",
       "      <td>18.000</td>\n",
       "    </tr>\n",
       "    <tr>\n",
       "      <th>Opp.Turnovers</th>\n",
       "      <td>9840.0</td>\n",
       "      <td>13.638618</td>\n",
       "      <td>3.869543</td>\n",
       "      <td>2.000</td>\n",
       "      <td>11.000</td>\n",
       "      <td>13.000</td>\n",
       "      <td>16.000</td>\n",
       "      <td>29.000</td>\n",
       "    </tr>\n",
       "    <tr>\n",
       "      <th>Opp.TotalFouls</th>\n",
       "      <td>9840.0</td>\n",
       "      <td>20.058537</td>\n",
       "      <td>4.317611</td>\n",
       "      <td>7.000</td>\n",
       "      <td>17.000</td>\n",
       "      <td>20.000</td>\n",
       "      <td>23.000</td>\n",
       "      <td>42.000</td>\n",
       "    </tr>\n",
       "  </tbody>\n",
       "</table>\n",
       "</div>"
      ],
      "text/plain": [
       "                           count          mean           std     min  \\\n",
       "Unnamed: 0                9840.0  11960.157012  18654.867508   1.000   \n",
       "Game                      9840.0     41.500000     23.670804   1.000   \n",
       "TeamPoints                9840.0    103.652337     12.188043  64.000   \n",
       "OpponentPoints            9840.0    103.652337     12.188043  64.000   \n",
       "FieldGoals                9840.0     38.602439      5.029992  19.000   \n",
       "FieldGoalsAttempted       9840.0     84.902439      7.130043  60.000   \n",
       "FieldGoals.               9840.0      0.455689      0.054711   0.271   \n",
       "X3PointShots              9840.0      9.126829      3.598084   0.000   \n",
       "X3PointShotsAttempted     9840.0     25.623679      7.102501   4.000   \n",
       "X3PointShots.             9840.0      0.354321      0.097782   0.000   \n",
       "FreeThrows                9840.0     17.320630      6.002620   1.000   \n",
       "FreeThrowsAttempted       9840.0     22.749390      7.390451   1.000   \n",
       "FreeThrows.               9840.0      0.762395      0.104297   0.143   \n",
       "OffRebounds               9840.0     10.287602      3.807120   0.000   \n",
       "TotalRebounds             9840.0     43.520630      6.410428  20.000   \n",
       "Assists                   9840.0     22.546545      5.122989   6.000   \n",
       "Steals                    9840.0      7.750508      2.958886   0.000   \n",
       "Blocks                    9840.0      4.827642      2.536845   0.000   \n",
       "Turnovers                 9840.0     13.638618      3.869543   2.000   \n",
       "TotalFouls                9840.0     20.058537      4.317611   7.000   \n",
       "Opp.FieldGoals            9840.0     38.602439      5.029992  19.000   \n",
       "Opp.FieldGoalsAttempted   9840.0     84.902439      7.130043  60.000   \n",
       "Opp.FieldGoals.           9840.0      0.455689      0.054711   0.271   \n",
       "Opp.3PointShots           9840.0      9.126829      3.598084   0.000   \n",
       "Opp.3PointShotsAttempted  9840.0     25.623679      7.102501   4.000   \n",
       "Opp.3PointShots.          9840.0      0.354321      0.097782   0.000   \n",
       "Opp.FreeThrows            9840.0     17.320630      6.002620   1.000   \n",
       "Opp.FreeThrowsAttempted   9840.0     22.749390      7.390451   1.000   \n",
       "Opp.FreeThrows.           9840.0      0.762395      0.104297   0.143   \n",
       "Opp.OffRebounds           9840.0     10.287602      3.807120   0.000   \n",
       "Opp.TotalRebounds         9840.0     43.520630      6.410428  20.000   \n",
       "Opp.Assists               9840.0     22.546545      5.122989   6.000   \n",
       "Opp.Steals                9840.0      7.750508      2.958886   0.000   \n",
       "Opp.Blocks                9840.0      4.827642      2.536845   0.000   \n",
       "Opp.Turnovers             9840.0     13.638618      3.869543   2.000   \n",
       "Opp.TotalFouls            9840.0     20.058537      4.317611   7.000   \n",
       "\n",
       "                               25%       50%       75%        max  \n",
       "Unnamed: 0                2537.750  5141.500  7715.250  82119.000  \n",
       "Game                        21.000    41.500    62.000     82.000  \n",
       "TeamPoints                  95.000   103.000   112.000    149.000  \n",
       "OpponentPoints              95.000   103.000   112.000    149.000  \n",
       "FieldGoals                  35.000    38.000    42.000     58.000  \n",
       "FieldGoalsAttempted         80.000    85.000    89.000    129.000  \n",
       "FieldGoals.                  0.418     0.455     0.494      0.684  \n",
       "X3PointShots                 7.000     9.000    11.000     25.000  \n",
       "X3PointShotsAttempted       21.000    25.000    30.000     61.000  \n",
       "X3PointShots.                0.290     0.353     0.419      0.750  \n",
       "FreeThrows                  13.000    17.000    21.000     44.000  \n",
       "FreeThrowsAttempted         18.000    22.000    27.000     64.000  \n",
       "FreeThrows.                  0.696     0.769     0.833      1.000  \n",
       "OffRebounds                  8.000    10.000    13.000     38.000  \n",
       "TotalRebounds               39.000    43.000    48.000     81.000  \n",
       "Assists                     19.000    22.000    26.000     47.000  \n",
       "Steals                       6.000     8.000    10.000     21.000  \n",
       "Blocks                       3.000     5.000     6.000     18.000  \n",
       "Turnovers                   11.000    13.000    16.000     29.000  \n",
       "TotalFouls                  17.000    20.000    23.000     42.000  \n",
       "Opp.FieldGoals              35.000    38.000    42.000     58.000  \n",
       "Opp.FieldGoalsAttempted     80.000    85.000    89.000    129.000  \n",
       "Opp.FieldGoals.              0.418     0.455     0.494      0.684  \n",
       "Opp.3PointShots              7.000     9.000    11.000     25.000  \n",
       "Opp.3PointShotsAttempted    21.000    25.000    30.000     61.000  \n",
       "Opp.3PointShots.             0.290     0.353     0.419      0.750  \n",
       "Opp.FreeThrows              13.000    17.000    21.000     44.000  \n",
       "Opp.FreeThrowsAttempted     18.000    22.000    27.000     64.000  \n",
       "Opp.FreeThrows.              0.696     0.769     0.833      1.000  \n",
       "Opp.OffRebounds              8.000    10.000    13.000     38.000  \n",
       "Opp.TotalRebounds           39.000    43.000    48.000     81.000  \n",
       "Opp.Assists                 19.000    22.000    26.000     47.000  \n",
       "Opp.Steals                   6.000     8.000    10.000     21.000  \n",
       "Opp.Blocks                   3.000     5.000     6.000     18.000  \n",
       "Opp.Turnovers               11.000    13.000    16.000     29.000  \n",
       "Opp.TotalFouls              17.000    20.000    23.000     42.000  "
      ]
     },
     "execution_count": 7,
     "metadata": {},
     "output_type": "execute_result"
    }
   ],
   "source": [
    "#looking at the summary statistics of all the numeric columns\n",
    "nba.describe().T"
   ]
  },
  {
   "cell_type": "code",
   "execution_count": 8,
   "metadata": {},
   "outputs": [
    {
     "data": {
      "image/png": "[encoded data removed]",
      "text/plain": [
       "<Figure size 432x288 with 1 Axes>"
      ]
     },
     "metadata": {
      "needs_background": "light"
     },
     "output_type": "display_data"
    },
    {
     "data": {
      "image/png": "[encoded data removed]",
      "text/plain": [
       "<Figure size 432x288 with 1 Axes>"
      ]
     },
     "metadata": {
      "needs_background": "light"
     },
     "output_type": "display_data"
    },
    {
     "data": {
      "image/png": "[encoded data removed]",
      "text/plain": [
       "<Figure size 432x288 with 1 Axes>"
      ]
     },
     "metadata": {
      "needs_background": "light"
     },
     "output_type": "display_data"
    },
    {
     "data": {
      "image/png": "[encoded data removed]",
      "text/plain": [
       "<Figure size 432x288 with 1 Axes>"
      ]
     },
     "metadata": {
      "needs_background": "light"
     },
     "output_type": "display_data"
    },
    {
     "data": {
      "image/png": "[encoded data removed]",
      "text/plain": [
       "<Figure size 432x288 with 1 Axes>"
      ]
     },
     "metadata": {
      "needs_background": "light"
     },
     "output_type": "display_data"
    },
    {
     "data": {
      "image/png": "[encoded data removed]",
      "text/plain": [
       "<Figure size 432x288 with 1 Axes>"
      ]
     },
     "metadata": {
      "needs_background": "light"
     },
     "output_type": "display_data"
    },
    {
     "data": {
      "image/png": "[encoded data removed]",
      "text/plain": [
       "<Figure size 432x288 with 1 Axes>"
      ]
     },
     "metadata": {
      "needs_background": "light"
     },
     "output_type": "display_data"
    },
    {
     "data": {
      "image/png": "[encoded data removed]",
      "text/plain": [
       "<Figure size 432x288 with 1 Axes>"
      ]
     },
     "metadata": {
      "needs_background": "light"
     },
     "output_type": "display_data"
    },
    {
     "data": {
      "image/png": "[encoded data removed]",
      "text/plain": [
       "<Figure size 432x288 with 1 Axes>"
      ]
     },
     "metadata": {
      "needs_background": "light"
     },
     "output_type": "display_data"
    },
    {
     "data": {
      "image/png": "[encoded data removed]",
      "text/plain": [
       "<Figure size 432x288 with 1 Axes>"
      ]
     },
     "metadata": {
      "needs_background": "light"
     },
     "output_type": "display_data"
    },
    {
     "data": {
      "image/png": "[encoded data removed]",
      "text/plain": [
       "<Figure size 432x288 with 1 Axes>"
      ]
     },
     "metadata": {
      "needs_background": "light"
     },
     "output_type": "display_data"
    },
    {
     "data": {
      "image/png": "[encoded data removed]",
      "text/plain": [
       "<Figure size 432x288 with 1 Axes>"
      ]
     },
     "metadata": {
      "needs_background": "light"
     },
     "output_type": "display_data"
    },
    {
     "data": {
      "image/png": "[encoded data removed]",
      "text/plain": [
       "<Figure size 432x288 with 1 Axes>"
      ]
     },
     "metadata": {
      "needs_background": "light"
     },
     "output_type": "display_data"
    },
    {
     "data": {
      "image/png": "[encoded data removed]",
      "text/plain": [
       "<Figure size 432x288 with 1 Axes>"
      ]
     },
     "metadata": {
      "needs_background": "light"
     },
     "output_type": "display_data"
    },
    {
     "data": {
      "image/png": "[encoded data removed]",
      "text/plain": [
       "<Figure size 432x288 with 1 Axes>"
      ]
     },
     "metadata": {
      "needs_background": "light"
     },
     "output_type": "display_data"
    },
    {
     "data": {
      "image/png": "[encoded data removed]",
      "text/plain": [
       "<Figure size 432x288 with 1 Axes>"
      ]
     },
     "metadata": {
      "needs_background": "light"
     },
     "output_type": "display_data"
    },
    {
     "data": {
      "image/png": "[encoded data removed]",
      "text/plain": [
       "<Figure size 432x288 with 1 Axes>"
      ]
     },
     "metadata": {
      "needs_background": "light"
     },
     "output_type": "display_data"
    },
    {
     "data": {
      "image/png": "[encoded data removed]",
      "text/plain": [
       "<Figure size 432x288 with 1 Axes>"
      ]
     },
     "metadata": {
      "needs_background": "light"
     },
     "output_type": "display_data"
    },
    {
     "data": {
      "image/png": "[encoded data removed]",
      "text/plain": [
       "<Figure size 432x288 with 1 Axes>"
      ]
     },
     "metadata": {
      "needs_background": "light"
     },
     "output_type": "display_data"
    },
    {
     "data": {
      "image/png": "[encoded data removed]",
      "text/plain": [
       "<Figure size 432x288 with 1 Axes>"
      ]
     },
     "metadata": {
      "needs_background": "light"
     },
     "output_type": "display_data"
    },
    {
     "data": {
      "image/png": "[encoded data removed]",
      "text/plain": [
       "<Figure size 432x288 with 1 Axes>"
      ]
     },
     "metadata": {
      "needs_background": "light"
     },
     "output_type": "display_data"
    },
    {
     "data": {
      "image/png": "[encoded data removed]",
      "text/plain": [
       "<Figure size 432x288 with 1 Axes>"
      ]
     },
     "metadata": {
      "needs_background": "light"
     },
     "output_type": "display_data"
    },
    {
     "data": {
      "image/png": "[encoded data removed]",
      "text/plain": [
       "<Figure size 432x288 with 1 Axes>"
      ]
     },
     "metadata": {
      "needs_background": "light"
     },
     "output_type": "display_data"
    },
    {
     "data": {
      "image/png": "[encoded data removed]",
      "text/plain": [
       "<Figure size 432x288 with 1 Axes>"
      ]
     },
     "metadata": {
      "needs_background": "light"
     },
     "output_type": "display_data"
    },
    {
     "data": {
      "image/png": "[encoded data removed]",
      "text/plain": [
       "<Figure size 432x288 with 1 Axes>"
      ]
     },
     "metadata": {
      "needs_background": "light"
     },
     "output_type": "display_data"
    },
    {
     "data": {
      "image/png": "[encoded data removed]",
      "text/plain": [
       "<Figure size 432x288 with 1 Axes>"
      ]
     },
     "metadata": {
      "needs_background": "light"
     },
     "output_type": "display_data"
    },
    {
     "data": {
      "image/png": "[encoded data removed]",
      "text/plain": [
       "<Figure size 432x288 with 1 Axes>"
      ]
     },
     "metadata": {
      "needs_background": "light"
     },
     "output_type": "display_data"
    },
    {
     "data": {
      "image/png": "[encoded data removed]",
      "text/plain": [
       "<Figure size 432x288 with 1 Axes>"
      ]
     },
     "metadata": {
      "needs_background": "light"
     },
     "output_type": "display_data"
    },
    {
     "data": {
      "image/png": "[encoded data removed]",
      "text/plain": [
       "<Figure size 432x288 with 1 Axes>"
      ]
     },
     "metadata": {
      "needs_background": "light"
     },
     "output_type": "display_data"
    },
    {
     "data": {
      "image/png": "[encoded data removed]",
      "text/plain": [
       "<Figure size 432x288 with 1 Axes>"
      ]
     },
     "metadata": {
      "needs_background": "light"
     },
     "output_type": "display_data"
    }
   ],
   "source": [
    "#checking plot distribution for all numerical columns\n",
    "num_cols = nba.columns[[nba[col].dtype == 'int64' for col in nba.columns]]\n",
    "for col in num_cols:\n",
    "    plt.hist(nba[col])\n",
    "    plt.title(col)\n",
    "    plt.show()"
   ]
  },
  {
   "cell_type": "markdown",
   "metadata": {},
   "source": [
    "<div class=\"alert alert-block alert-info\"><b>Acquire Summary:</b>\n",
    "    \n",
    "* We will delete unnamed column because it wont be necessary\n",
    "    \n",
    "* We won't need game number because it will be in the index \n",
    "    \n",
    "* Four seasons worth of data, we could look into splitting up the seasons \n",
    "    \n",
    "* No null values, BIG PLUS! \n",
    "    \n",
    "* Some outliers but its just a part of the game. Will keep all the data but could consider removing the outliers later \n",
    "    \n",
    "* Normal distribution for all of the numerical columns\n",
    "    \n",
    "</div>"
   ]
  },
  {
   "cell_type": "markdown",
   "metadata": {},
   "source": [
    "## Prepare"
   ]
  },
  {
   "cell_type": "markdown",
   "metadata": {},
   "source": [
    "<div class=\"alert alert-block alert-info\">\n",
    "    \n",
    "- adding two columns called home_is_west and away_is_west for teams playing in different conferences \n",
    "- Changed Home, Conference, Opp.Conference and Wins into dummy variables \n",
    "- dropped dates and columns that deal with point totals to not skew the models to predict who wins \n",
    "- split into train, validate and test\n",
    "    \n",
    "</div>"
   ]
  },
  {
   "cell_type": "markdown",
   "metadata": {},
   "source": [
    "<div style=\"background-color:LightBlue\">\n",
    "\n",
    "- adding two columns called home_is_west and away_is_west for teams playing in different conferences \n",
    "- Changed Home, Conference, Opp.Conference and Wins into dummy variables \n",
    "- dropped dates and columns that deal with point totals to not skew the models to predict who wins \n",
    "- split into train, validate and test\n",
    "\n",
    "</div>\n"
   ]
  },
  {
   "cell_type": "code",
   "execution_count": null,
   "metadata": {},
   "outputs": [],
   "source": []
  }
 ],
 "metadata": {
  "kernelspec": {
   "display_name": "Python 3",
   "language": "python",
   "name": "python3"
  },
  "language_info": {
   "codemirror_mode": {
    "name": "ipython",
    "version": 3
   },
   "file_extension": ".py",
   "mimetype": "text/x-python",
   "name": "python",
   "nbconvert_exporter": "python",
   "pygments_lexer": "ipython3",
   "version": "3.7.9"
  }
 },
 "nbformat": 4,
 "nbformat_minor": 4
}
